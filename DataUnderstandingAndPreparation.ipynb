{
 "cells": [
  {
   "cell_type": "markdown",
   "metadata": {},
   "source": [
    "# Lab 2: ML Life Cycle: Data Understanding and Data Preparation"
   ]
  },
  {
   "cell_type": "code",
   "execution_count": 2,
   "metadata": {},
   "outputs": [],
   "source": [
    "import os\n",
    "import pandas as pd\n",
    "import numpy as np\n",
    "%matplotlib inline\n",
    "import matplotlib.pyplot as plt \n",
    "import seaborn as sns"
   ]
  },
  {
   "cell_type": "markdown",
   "metadata": {},
   "source": [
    "In this lab, you will practice the second and third steps of the machine learning life cycle: data understanding and data preparation. You will beging preparing your data so that it can be used to train a machine learning model that solves a regression problem. Note that by the end of the lab, your data set won't be completely ready for the modeling phase, but you will gain experience using some common data preparation techniques. \n",
    "\n",
    "You will complete the following tasks to transform your data:\n",
    "\n",
    "1. Build your data matrix and define your ML problem:\n",
    "    * Load the Airbnb \"listings\" data set into a DataFrame and inspect the data\n",
    "    * Define the label and convert the label's data type to one that is more suitable for modeling\n",
    "    * Identify features\n",
    "2. Clean your data:\n",
    "    * Handle outliers by building a new regression label column by winsorizing outliers\n",
    "    * Handle missing data by replacing all missing values in the dataset with means\n",
    "3. Perform feature transformation using one-hot encoding\n",
    "4. Explore your data:\n",
    "    * Identify two features with the highest correlation with label\n",
    "    * Build appropriate bivariate plots to visualize the correlations between features and the label\n",
    "5. Analysis:\n",
    "    * Analyze the relationship between the features and the label\n",
    "    * Brainstorm what else needs to be done to fully prepare the data for modeling"
   ]
  },
  {
   "cell_type": "markdown",
   "metadata": {},
   "source": [
    "## Part 1. Build Your Data Matrix (DataFrame) and Define Your ML Problem"
   ]
  },
  {
   "cell_type": "markdown",
   "metadata": {},
   "source": [
    "#### Load a Data Set and Save it as a Pandas DataFrame"
   ]
  },
  {
   "cell_type": "markdown",
   "metadata": {},
   "source": [
    "We will be working with the Airbnb NYC \"listings\" data set. Use the specified path and name of the file to load the data. Save it as a Pandas DataFrame called `df`."
   ]
  },
  {
   "cell_type": "code",
   "execution_count": 3,
   "metadata": {},
   "outputs": [],
   "source": [
    "# Do not remove or edit the line below:\n",
    "filename = os.path.join(os.getcwd(), \"data\", \"airbnbData.csv\")"
   ]
  },
  {
   "cell_type": "markdown",
   "metadata": {},
   "source": [
    "**Task**: Load the data and save it to DataFrame `df`.\n",
    "\n",
    "<i>Note:</i> You may receive a warning message. Ignore this warning."
   ]
  },
  {
   "cell_type": "code",
   "execution_count": 4,
   "metadata": {},
   "outputs": [
    {
     "name": "stderr",
     "output_type": "stream",
     "text": [
      "/usr/local/lib/python3.6/dist-packages/IPython/core/interactiveshell.py:2728: DtypeWarning: Columns (67) have mixed types.Specify dtype option on import or set low_memory=False.\n",
      "  interactivity=interactivity, compiler=compiler, result=result)\n"
     ]
    }
   ],
   "source": [
    "# YOUR CODE HERE\n",
    "df = pd.read_csv(filename, header=0)"
   ]
  },
  {
   "cell_type": "markdown",
   "metadata": {},
   "source": [
    "####  Inspect the Data\n"
   ]
  },
  {
   "cell_type": "markdown",
   "metadata": {},
   "source": [
    "<b>Task</b>: Display the shape of `df` -- that is, the number of rows and columns."
   ]
  },
  {
   "cell_type": "code",
   "execution_count": 5,
   "metadata": {},
   "outputs": [
    {
     "data": {
      "text/plain": [
       "(38277, 74)"
      ]
     },
     "execution_count": 5,
     "metadata": {},
     "output_type": "execute_result"
    }
   ],
   "source": [
    "# YOUR CODE HERE\n",
    "df.shape"
   ]
  },
  {
   "cell_type": "markdown",
   "metadata": {},
   "source": [
    "<b>Task</b>: Display the column names."
   ]
  },
  {
   "cell_type": "code",
   "execution_count": 6,
   "metadata": {
    "scrolled": true
   },
   "outputs": [
    {
     "name": "stdout",
     "output_type": "stream",
     "text": [
      "['id', 'listing_url', 'scrape_id', 'last_scraped', 'name', 'description', 'neighborhood_overview', 'picture_url', 'host_id', 'host_url', 'host_name', 'host_since', 'host_location', 'host_about', 'host_response_time', 'host_response_rate', 'host_acceptance_rate', 'host_is_superhost', 'host_thumbnail_url', 'host_picture_url', 'host_neighbourhood', 'host_listings_count', 'host_total_listings_count', 'host_verifications', 'host_has_profile_pic', 'host_identity_verified', 'neighbourhood', 'neighbourhood_cleansed', 'neighbourhood_group_cleansed', 'latitude', 'longitude', 'property_type', 'room_type', 'accommodates', 'bathrooms', 'bathrooms_text', 'bedrooms', 'beds', 'amenities', 'price', 'minimum_nights', 'maximum_nights', 'minimum_minimum_nights', 'maximum_minimum_nights', 'minimum_maximum_nights', 'maximum_maximum_nights', 'minimum_nights_avg_ntm', 'maximum_nights_avg_ntm', 'calendar_updated', 'has_availability', 'availability_30', 'availability_60', 'availability_90', 'availability_365', 'calendar_last_scraped', 'number_of_reviews', 'number_of_reviews_ltm', 'number_of_reviews_l30d', 'first_review', 'last_review', 'review_scores_rating', 'review_scores_accuracy', 'review_scores_cleanliness', 'review_scores_checkin', 'review_scores_communication', 'review_scores_location', 'review_scores_value', 'license', 'instant_bookable', 'calculated_host_listings_count', 'calculated_host_listings_count_entire_homes', 'calculated_host_listings_count_private_rooms', 'calculated_host_listings_count_shared_rooms', 'reviews_per_month']\n"
     ]
    }
   ],
   "source": [
    "# YOUR CODE HERE\n",
    "features = [col for col in df.columns]\n",
    "print(features)"
   ]
  },
  {
   "cell_type": "markdown",
   "metadata": {},
   "source": [
    "**Task**: Get a peek at the data by displaying the first few rows, as you usually do."
   ]
  },
  {
   "cell_type": "code",
   "execution_count": 7,
   "metadata": {},
   "outputs": [
    {
     "data": {
      "text/html": [
       "<div>\n",
       "<style scoped>\n",
       "    .dataframe tbody tr th:only-of-type {\n",
       "        vertical-align: middle;\n",
       "    }\n",
       "\n",
       "    .dataframe tbody tr th {\n",
       "        vertical-align: top;\n",
       "    }\n",
       "\n",
       "    .dataframe thead th {\n",
       "        text-align: right;\n",
       "    }\n",
       "</style>\n",
       "<table border=\"1\" class=\"dataframe\">\n",
       "  <thead>\n",
       "    <tr style=\"text-align: right;\">\n",
       "      <th></th>\n",
       "      <th>id</th>\n",
       "      <th>listing_url</th>\n",
       "      <th>scrape_id</th>\n",
       "      <th>last_scraped</th>\n",
       "      <th>name</th>\n",
       "      <th>description</th>\n",
       "      <th>neighborhood_overview</th>\n",
       "      <th>picture_url</th>\n",
       "      <th>host_id</th>\n",
       "      <th>host_url</th>\n",
       "      <th>...</th>\n",
       "      <th>review_scores_communication</th>\n",
       "      <th>review_scores_location</th>\n",
       "      <th>review_scores_value</th>\n",
       "      <th>license</th>\n",
       "      <th>instant_bookable</th>\n",
       "      <th>calculated_host_listings_count</th>\n",
       "      <th>calculated_host_listings_count_entire_homes</th>\n",
       "      <th>calculated_host_listings_count_private_rooms</th>\n",
       "      <th>calculated_host_listings_count_shared_rooms</th>\n",
       "      <th>reviews_per_month</th>\n",
       "    </tr>\n",
       "  </thead>\n",
       "  <tbody>\n",
       "    <tr>\n",
       "      <th>0</th>\n",
       "      <td>2595</td>\n",
       "      <td>https://www.airbnb.com/rooms/2595</td>\n",
       "      <td>20211204143024</td>\n",
       "      <td>2021-12-05</td>\n",
       "      <td>Skylit Midtown Castle</td>\n",
       "      <td>Beautiful, spacious skylit studio in the heart...</td>\n",
       "      <td>Centrally located in the heart of Manhattan ju...</td>\n",
       "      <td>https://a0.muscache.com/pictures/f0813a11-40b2...</td>\n",
       "      <td>2845</td>\n",
       "      <td>https://www.airbnb.com/users/show/2845</td>\n",
       "      <td>...</td>\n",
       "      <td>4.79</td>\n",
       "      <td>4.86</td>\n",
       "      <td>4.41</td>\n",
       "      <td>NaN</td>\n",
       "      <td>f</td>\n",
       "      <td>3</td>\n",
       "      <td>3</td>\n",
       "      <td>0</td>\n",
       "      <td>0</td>\n",
       "      <td>0.33</td>\n",
       "    </tr>\n",
       "    <tr>\n",
       "      <th>1</th>\n",
       "      <td>3831</td>\n",
       "      <td>https://www.airbnb.com/rooms/3831</td>\n",
       "      <td>20211204143024</td>\n",
       "      <td>2021-12-05</td>\n",
       "      <td>Whole flr w/private bdrm, bath &amp; kitchen(pls r...</td>\n",
       "      <td>Enjoy 500 s.f. top floor in 1899 brownstone, w...</td>\n",
       "      <td>Just the right mix of urban center and local n...</td>\n",
       "      <td>https://a0.muscache.com/pictures/e49999c2-9fd5...</td>\n",
       "      <td>4869</td>\n",
       "      <td>https://www.airbnb.com/users/show/4869</td>\n",
       "      <td>...</td>\n",
       "      <td>4.80</td>\n",
       "      <td>4.71</td>\n",
       "      <td>4.64</td>\n",
       "      <td>NaN</td>\n",
       "      <td>f</td>\n",
       "      <td>1</td>\n",
       "      <td>1</td>\n",
       "      <td>0</td>\n",
       "      <td>0</td>\n",
       "      <td>4.86</td>\n",
       "    </tr>\n",
       "    <tr>\n",
       "      <th>2</th>\n",
       "      <td>5121</td>\n",
       "      <td>https://www.airbnb.com/rooms/5121</td>\n",
       "      <td>20211204143024</td>\n",
       "      <td>2021-12-05</td>\n",
       "      <td>BlissArtsSpace!</td>\n",
       "      <td>&lt;b&gt;The space&lt;/b&gt;&lt;br /&gt;HELLO EVERYONE AND THANK...</td>\n",
       "      <td>NaN</td>\n",
       "      <td>https://a0.muscache.com/pictures/2090980c-b68e...</td>\n",
       "      <td>7356</td>\n",
       "      <td>https://www.airbnb.com/users/show/7356</td>\n",
       "      <td>...</td>\n",
       "      <td>4.91</td>\n",
       "      <td>4.47</td>\n",
       "      <td>4.52</td>\n",
       "      <td>NaN</td>\n",
       "      <td>f</td>\n",
       "      <td>2</td>\n",
       "      <td>0</td>\n",
       "      <td>2</td>\n",
       "      <td>0</td>\n",
       "      <td>0.52</td>\n",
       "    </tr>\n",
       "    <tr>\n",
       "      <th>3</th>\n",
       "      <td>5136</td>\n",
       "      <td>https://www.airbnb.com/rooms/5136</td>\n",
       "      <td>20211204143024</td>\n",
       "      <td>2021-12-05</td>\n",
       "      <td>Spacious Brooklyn Duplex, Patio + Garden</td>\n",
       "      <td>We welcome you to stay in our lovely 2 br dupl...</td>\n",
       "      <td>NaN</td>\n",
       "      <td>https://a0.muscache.com/pictures/miso/Hosting-...</td>\n",
       "      <td>7378</td>\n",
       "      <td>https://www.airbnb.com/users/show/7378</td>\n",
       "      <td>...</td>\n",
       "      <td>5.00</td>\n",
       "      <td>4.50</td>\n",
       "      <td>5.00</td>\n",
       "      <td>NaN</td>\n",
       "      <td>f</td>\n",
       "      <td>1</td>\n",
       "      <td>1</td>\n",
       "      <td>0</td>\n",
       "      <td>0</td>\n",
       "      <td>0.02</td>\n",
       "    </tr>\n",
       "    <tr>\n",
       "      <th>4</th>\n",
       "      <td>5178</td>\n",
       "      <td>https://www.airbnb.com/rooms/5178</td>\n",
       "      <td>20211204143024</td>\n",
       "      <td>2021-12-05</td>\n",
       "      <td>Large Furnished Room Near B'way</td>\n",
       "      <td>Please don’t expect the luxury here just a bas...</td>\n",
       "      <td>Theater district, many restaurants around here.</td>\n",
       "      <td>https://a0.muscache.com/pictures/12065/f070997...</td>\n",
       "      <td>8967</td>\n",
       "      <td>https://www.airbnb.com/users/show/8967</td>\n",
       "      <td>...</td>\n",
       "      <td>4.42</td>\n",
       "      <td>4.87</td>\n",
       "      <td>4.36</td>\n",
       "      <td>NaN</td>\n",
       "      <td>f</td>\n",
       "      <td>1</td>\n",
       "      <td>0</td>\n",
       "      <td>1</td>\n",
       "      <td>0</td>\n",
       "      <td>3.68</td>\n",
       "    </tr>\n",
       "  </tbody>\n",
       "</table>\n",
       "<p>5 rows × 74 columns</p>\n",
       "</div>"
      ],
      "text/plain": [
       "     id                        listing_url       scrape_id last_scraped  \\\n",
       "0  2595  https://www.airbnb.com/rooms/2595  20211204143024   2021-12-05   \n",
       "1  3831  https://www.airbnb.com/rooms/3831  20211204143024   2021-12-05   \n",
       "2  5121  https://www.airbnb.com/rooms/5121  20211204143024   2021-12-05   \n",
       "3  5136  https://www.airbnb.com/rooms/5136  20211204143024   2021-12-05   \n",
       "4  5178  https://www.airbnb.com/rooms/5178  20211204143024   2021-12-05   \n",
       "\n",
       "                                                name  \\\n",
       "0                              Skylit Midtown Castle   \n",
       "1  Whole flr w/private bdrm, bath & kitchen(pls r...   \n",
       "2                                    BlissArtsSpace!   \n",
       "3           Spacious Brooklyn Duplex, Patio + Garden   \n",
       "4                   Large Furnished Room Near B'way　   \n",
       "\n",
       "                                         description  \\\n",
       "0  Beautiful, spacious skylit studio in the heart...   \n",
       "1  Enjoy 500 s.f. top floor in 1899 brownstone, w...   \n",
       "2  <b>The space</b><br />HELLO EVERYONE AND THANK...   \n",
       "3  We welcome you to stay in our lovely 2 br dupl...   \n",
       "4  Please don’t expect the luxury here just a bas...   \n",
       "\n",
       "                               neighborhood_overview  \\\n",
       "0  Centrally located in the heart of Manhattan ju...   \n",
       "1  Just the right mix of urban center and local n...   \n",
       "2                                                NaN   \n",
       "3                                                NaN   \n",
       "4    Theater district, many restaurants around here.   \n",
       "\n",
       "                                         picture_url  host_id  \\\n",
       "0  https://a0.muscache.com/pictures/f0813a11-40b2...     2845   \n",
       "1  https://a0.muscache.com/pictures/e49999c2-9fd5...     4869   \n",
       "2  https://a0.muscache.com/pictures/2090980c-b68e...     7356   \n",
       "3  https://a0.muscache.com/pictures/miso/Hosting-...     7378   \n",
       "4  https://a0.muscache.com/pictures/12065/f070997...     8967   \n",
       "\n",
       "                                 host_url  ... review_scores_communication  \\\n",
       "0  https://www.airbnb.com/users/show/2845  ...                        4.79   \n",
       "1  https://www.airbnb.com/users/show/4869  ...                        4.80   \n",
       "2  https://www.airbnb.com/users/show/7356  ...                        4.91   \n",
       "3  https://www.airbnb.com/users/show/7378  ...                        5.00   \n",
       "4  https://www.airbnb.com/users/show/8967  ...                        4.42   \n",
       "\n",
       "  review_scores_location review_scores_value license instant_bookable  \\\n",
       "0                   4.86                4.41     NaN                f   \n",
       "1                   4.71                4.64     NaN                f   \n",
       "2                   4.47                4.52     NaN                f   \n",
       "3                   4.50                5.00     NaN                f   \n",
       "4                   4.87                4.36     NaN                f   \n",
       "\n",
       "  calculated_host_listings_count calculated_host_listings_count_entire_homes  \\\n",
       "0                              3                                           3   \n",
       "1                              1                                           1   \n",
       "2                              2                                           0   \n",
       "3                              1                                           1   \n",
       "4                              1                                           0   \n",
       "\n",
       "  calculated_host_listings_count_private_rooms  \\\n",
       "0                                            0   \n",
       "1                                            0   \n",
       "2                                            2   \n",
       "3                                            0   \n",
       "4                                            1   \n",
       "\n",
       "  calculated_host_listings_count_shared_rooms reviews_per_month  \n",
       "0                                           0              0.33  \n",
       "1                                           0              4.86  \n",
       "2                                           0              0.52  \n",
       "3                                           0              0.02  \n",
       "4                                           0              3.68  \n",
       "\n",
       "[5 rows x 74 columns]"
      ]
     },
     "execution_count": 7,
     "metadata": {},
     "output_type": "execute_result"
    }
   ],
   "source": [
    "# YOUR CODE HERE\n",
    "df.head()"
   ]
  },
  {
   "cell_type": "markdown",
   "metadata": {},
   "source": [
    "#### Define the Label"
   ]
  },
  {
   "cell_type": "markdown",
   "metadata": {},
   "source": [
    "Assume that your goal is to train a machine learning model that predicts the price of an Airbnb. This is an example of supervised learning and is a regression problem. In our dataset, our label will be the `price` column. Let's inspect the values in the `price` column."
   ]
  },
  {
   "cell_type": "code",
   "execution_count": 8,
   "metadata": {},
   "outputs": [
    {
     "data": {
      "text/plain": [
       "0        $150.00\n",
       "1         $75.00\n",
       "2         $60.00\n",
       "3        $275.00\n",
       "4         $68.00\n",
       "          ...   \n",
       "38272     $79.00\n",
       "38273     $76.00\n",
       "38274    $116.00\n",
       "38275    $106.00\n",
       "38276    $689.00\n",
       "Name: price, Length: 38277, dtype: object"
      ]
     },
     "execution_count": 8,
     "metadata": {},
     "output_type": "execute_result"
    }
   ],
   "source": [
    "df['price']"
   ]
  },
  {
   "cell_type": "markdown",
   "metadata": {},
   "source": [
    "Notice the `price` column contains values that are listed as $<$currency_name$>$$<$numeric_value$>$. \n",
    "<br>For example, it contains values that look like this: `$120`. <br>\n",
    "\n",
    "**Task**:  Obtain the data type of the values in this column:"
   ]
  },
  {
   "cell_type": "code",
   "execution_count": 9,
   "metadata": {},
   "outputs": [
    {
     "name": "stdout",
     "output_type": "stream",
     "text": [
      "object\n"
     ]
    }
   ],
   "source": [
    "# YOUR CODE HERE\n",
    "print(df['price'].dtype)"
   ]
  },
  {
   "cell_type": "markdown",
   "metadata": {},
   "source": [
    "Notice that the data type is \"object,\" which in Pandas translates to the String data type."
   ]
  },
  {
   "cell_type": "markdown",
   "metadata": {},
   "source": [
    "**Task**:  Display the first 15 unique values of  the `price` column:"
   ]
  },
  {
   "cell_type": "code",
   "execution_count": 10,
   "metadata": {},
   "outputs": [
    {
     "data": {
      "text/plain": [
       "0     $150.00\n",
       "1      $75.00\n",
       "2      $60.00\n",
       "3     $275.00\n",
       "4      $68.00\n",
       "5      $98.00\n",
       "6      $89.00\n",
       "7      $65.00\n",
       "8      $62.00\n",
       "9      $90.00\n",
       "10    $199.00\n",
       "11     $96.00\n",
       "12    $299.00\n",
       "13    $140.00\n",
       "14    $175.00\n",
       "dtype: object"
      ]
     },
     "execution_count": 10,
     "metadata": {},
     "output_type": "execute_result"
    }
   ],
   "source": [
    "# YOUR CODE HERE\n",
    "pd.Series(df['price'].unique()).head(15)"
   ]
  },
  {
   "cell_type": "markdown",
   "metadata": {},
   "source": [
    "In order for us to use the prices for modeling, we will have to transform the values in the `price` column from strings to floats. We will:\n",
    "\n",
    "* remove the dollar signs (in this case, the platform forces the currency to be the USD, so we do not need to worry about targeting, say, the Japanese Yen sign, nor about converting the values into USD). \n",
    "* remove the commas from all values that are in the thousands or above: for example, `$2,500`. \n",
    "\n",
    "The code cell below accomplishes this."
   ]
  },
  {
   "cell_type": "code",
   "execution_count": 11,
   "metadata": {},
   "outputs": [],
   "source": [
    "df['price'] = df['price'].str.replace(',', '')\n",
    "df['price'] = df['price'].str.replace('$', '')\n",
    "df['price'] = df['price'].astype(float)"
   ]
  },
  {
   "cell_type": "markdown",
   "metadata": {},
   "source": [
    "**Task**:  Display the first 15 unique values of  the `price` column again to make sure they have been transformed."
   ]
  },
  {
   "cell_type": "code",
   "execution_count": 12,
   "metadata": {},
   "outputs": [
    {
     "data": {
      "text/plain": [
       "0     150.0\n",
       "1      75.0\n",
       "2      60.0\n",
       "3     275.0\n",
       "4      68.0\n",
       "5      75.0\n",
       "6      98.0\n",
       "7      89.0\n",
       "8      65.0\n",
       "9      62.0\n",
       "10     90.0\n",
       "11    199.0\n",
       "12     96.0\n",
       "13    299.0\n",
       "14    140.0\n",
       "Name: price, dtype: float64"
      ]
     },
     "execution_count": 12,
     "metadata": {},
     "output_type": "execute_result"
    }
   ],
   "source": [
    "# YOUR CODE HERE\n",
    "df['price'].head(15)"
   ]
  },
  {
   "cell_type": "markdown",
   "metadata": {},
   "source": [
    "#### Identify Features"
   ]
  },
  {
   "cell_type": "markdown",
   "metadata": {},
   "source": [
    "Simply by inspecting the data, let's identify some columns that should not serve as features - those that will not help us solve our predictive ML problem. "
   ]
  },
  {
   "cell_type": "markdown",
   "metadata": {},
   "source": [
    "Some that stand out are columns that contain website addresses (URLs).\n",
    "\n",
    "**Task**: Create a list which contains the names of columns that contain URLs. Save the resulting list to variable `url_colnames`.\n",
    "\n",
    "*Tip*: There are different ways to accomplish this, including using Python list comprehensions."
   ]
  },
  {
   "cell_type": "code",
   "execution_count": 13,
   "metadata": {},
   "outputs": [
    {
     "data": {
      "text/plain": [
       "['listing_url',\n",
       " 'picture_url',\n",
       " 'host_url',\n",
       " 'host_thumbnail_url',\n",
       " 'host_picture_url']"
      ]
     },
     "execution_count": 13,
     "metadata": {},
     "output_type": "execute_result"
    }
   ],
   "source": [
    "url_colnames = [col for col in df.columns if \"url\" in col]\n",
    "url_colnames"
   ]
  },
  {
   "cell_type": "markdown",
   "metadata": {},
   "source": [
    "**Task**: Drop the columns with the specified names contained in list `url_colnames` in place (that is, make sure this change applies to the original DataFrame `df`, instead of creating a temporary new DataFrame object with fewer columns)."
   ]
  },
  {
   "cell_type": "code",
   "execution_count": 14,
   "metadata": {},
   "outputs": [],
   "source": [
    "# YOUR CODE HERE\n",
    "df.drop(columns=url_colnames, inplace=True)"
   ]
  },
  {
   "cell_type": "markdown",
   "metadata": {},
   "source": [
    "**Task**: Display the shape of the data to verify that the new number of columns is what you expected."
   ]
  },
  {
   "cell_type": "code",
   "execution_count": 15,
   "metadata": {},
   "outputs": [
    {
     "data": {
      "text/plain": [
       "(38277, 69)"
      ]
     },
     "execution_count": 15,
     "metadata": {},
     "output_type": "execute_result"
    }
   ],
   "source": [
    "# YOUR CODE HERE\n",
    "df.shape"
   ]
  },
  {
   "cell_type": "markdown",
   "metadata": {},
   "source": [
    "**Task**: In the code cell below, display the features that we will use to solve our ML problem."
   ]
  },
  {
   "cell_type": "code",
   "execution_count": 16,
   "metadata": {},
   "outputs": [
    {
     "name": "stdout",
     "output_type": "stream",
     "text": [
      "['id', 'scrape_id', 'last_scraped', 'name', 'description', 'neighborhood_overview', 'host_id', 'host_name', 'host_since', 'host_location', 'host_about', 'host_response_time', 'host_response_rate', 'host_acceptance_rate', 'host_is_superhost', 'host_neighbourhood', 'host_listings_count', 'host_total_listings_count', 'host_verifications', 'host_has_profile_pic', 'host_identity_verified', 'neighbourhood', 'neighbourhood_cleansed', 'neighbourhood_group_cleansed', 'latitude', 'longitude', 'property_type', 'room_type', 'accommodates', 'bathrooms', 'bathrooms_text', 'bedrooms', 'beds', 'amenities', 'minimum_nights', 'maximum_nights', 'minimum_minimum_nights', 'maximum_minimum_nights', 'minimum_maximum_nights', 'maximum_maximum_nights', 'minimum_nights_avg_ntm', 'maximum_nights_avg_ntm', 'calendar_updated', 'has_availability', 'availability_30', 'availability_60', 'availability_90', 'availability_365', 'calendar_last_scraped', 'number_of_reviews', 'number_of_reviews_ltm', 'number_of_reviews_l30d', 'first_review', 'last_review', 'review_scores_rating', 'review_scores_accuracy', 'review_scores_cleanliness', 'review_scores_checkin', 'review_scores_communication', 'review_scores_location', 'review_scores_value', 'license', 'instant_bookable', 'calculated_host_listings_count', 'calculated_host_listings_count_entire_homes', 'calculated_host_listings_count_private_rooms', 'calculated_host_listings_count_shared_rooms', 'reviews_per_month']\n"
     ]
    }
   ],
   "source": [
    "# YOUR CODE HERE\n",
    "features = [col for col in df.columns if col != \"price\"]\n",
    "print(features)"
   ]
  },
  {
   "cell_type": "markdown",
   "metadata": {},
   "source": [
    "**Task**: Are there any other features that you think may not be well suited for our machine learning problem? Note your findings in the markdown cell below."
   ]
  },
  {
   "cell_type": "markdown",
   "metadata": {},
   "source": [
    "Some features that might not be extremely helpful include calendar_last_scapred and longitude and latitude. I think for longitude and latitude, those don't matter so much as the actual host location does (there are lots of popular tourist-y spots anywhere, it just depends on whether it's a popular spot to visit.) Calendar_last_scraped also does not seem like it would greatly help the model predict price."
   ]
  },
  {
   "cell_type": "markdown",
   "metadata": {},
   "source": [
    "## Part 2. Clean Your Data\n",
    "\n",
    "Let's now handle outliers and missing data."
   ]
  },
  {
   "cell_type": "markdown",
   "metadata": {},
   "source": [
    "### a. Handle Outliers\n",
    "\n",
    "Let us prepare the data in our label column. Namely, we will detect and replace outliers in the data using winsorization."
   ]
  },
  {
   "cell_type": "markdown",
   "metadata": {},
   "source": [
    "**Task**: Create a new version of the `price` column, named `label_price`, in which you will replace the top and bottom 1% outlier values with the corresponding percentile value. Add this new column to the DataFrame `df`."
   ]
  },
  {
   "cell_type": "markdown",
   "metadata": {},
   "source": [
    "Remember, you will first need to load the `stats` module from the `scipy` package:"
   ]
  },
  {
   "cell_type": "code",
   "execution_count": 17,
   "metadata": {},
   "outputs": [],
   "source": [
    "# YOUR CODE HERE \n",
    "from scipy.stats import mstats\n",
    "df['label_price'] = mstats.winsorize(df['price'], limits=(0.01, 0.01))"
   ]
  },
  {
   "cell_type": "markdown",
   "metadata": {},
   "source": [
    "Let's verify that the new column `label_price` was added to DataFrame `df`:"
   ]
  },
  {
   "cell_type": "code",
   "execution_count": 18,
   "metadata": {},
   "outputs": [
    {
     "data": {
      "text/html": [
       "<div>\n",
       "<style scoped>\n",
       "    .dataframe tbody tr th:only-of-type {\n",
       "        vertical-align: middle;\n",
       "    }\n",
       "\n",
       "    .dataframe tbody tr th {\n",
       "        vertical-align: top;\n",
       "    }\n",
       "\n",
       "    .dataframe thead th {\n",
       "        text-align: right;\n",
       "    }\n",
       "</style>\n",
       "<table border=\"1\" class=\"dataframe\">\n",
       "  <thead>\n",
       "    <tr style=\"text-align: right;\">\n",
       "      <th></th>\n",
       "      <th>id</th>\n",
       "      <th>scrape_id</th>\n",
       "      <th>last_scraped</th>\n",
       "      <th>name</th>\n",
       "      <th>description</th>\n",
       "      <th>neighborhood_overview</th>\n",
       "      <th>host_id</th>\n",
       "      <th>host_name</th>\n",
       "      <th>host_since</th>\n",
       "      <th>host_location</th>\n",
       "      <th>...</th>\n",
       "      <th>review_scores_location</th>\n",
       "      <th>review_scores_value</th>\n",
       "      <th>license</th>\n",
       "      <th>instant_bookable</th>\n",
       "      <th>calculated_host_listings_count</th>\n",
       "      <th>calculated_host_listings_count_entire_homes</th>\n",
       "      <th>calculated_host_listings_count_private_rooms</th>\n",
       "      <th>calculated_host_listings_count_shared_rooms</th>\n",
       "      <th>reviews_per_month</th>\n",
       "      <th>label_price</th>\n",
       "    </tr>\n",
       "  </thead>\n",
       "  <tbody>\n",
       "    <tr>\n",
       "      <th>0</th>\n",
       "      <td>2595</td>\n",
       "      <td>20211204143024</td>\n",
       "      <td>2021-12-05</td>\n",
       "      <td>Skylit Midtown Castle</td>\n",
       "      <td>Beautiful, spacious skylit studio in the heart...</td>\n",
       "      <td>Centrally located in the heart of Manhattan ju...</td>\n",
       "      <td>2845</td>\n",
       "      <td>Jennifer</td>\n",
       "      <td>2008-09-09</td>\n",
       "      <td>New York, New York, United States</td>\n",
       "      <td>...</td>\n",
       "      <td>4.86</td>\n",
       "      <td>4.41</td>\n",
       "      <td>NaN</td>\n",
       "      <td>f</td>\n",
       "      <td>3</td>\n",
       "      <td>3</td>\n",
       "      <td>0</td>\n",
       "      <td>0</td>\n",
       "      <td>0.33</td>\n",
       "      <td>150.0</td>\n",
       "    </tr>\n",
       "    <tr>\n",
       "      <th>1</th>\n",
       "      <td>3831</td>\n",
       "      <td>20211204143024</td>\n",
       "      <td>2021-12-05</td>\n",
       "      <td>Whole flr w/private bdrm, bath &amp; kitchen(pls r...</td>\n",
       "      <td>Enjoy 500 s.f. top floor in 1899 brownstone, w...</td>\n",
       "      <td>Just the right mix of urban center and local n...</td>\n",
       "      <td>4869</td>\n",
       "      <td>LisaRoxanne</td>\n",
       "      <td>2008-12-07</td>\n",
       "      <td>New York, New York, United States</td>\n",
       "      <td>...</td>\n",
       "      <td>4.71</td>\n",
       "      <td>4.64</td>\n",
       "      <td>NaN</td>\n",
       "      <td>f</td>\n",
       "      <td>1</td>\n",
       "      <td>1</td>\n",
       "      <td>0</td>\n",
       "      <td>0</td>\n",
       "      <td>4.86</td>\n",
       "      <td>75.0</td>\n",
       "    </tr>\n",
       "    <tr>\n",
       "      <th>2</th>\n",
       "      <td>5121</td>\n",
       "      <td>20211204143024</td>\n",
       "      <td>2021-12-05</td>\n",
       "      <td>BlissArtsSpace!</td>\n",
       "      <td>&lt;b&gt;The space&lt;/b&gt;&lt;br /&gt;HELLO EVERYONE AND THANK...</td>\n",
       "      <td>NaN</td>\n",
       "      <td>7356</td>\n",
       "      <td>Garon</td>\n",
       "      <td>2009-02-03</td>\n",
       "      <td>New York, New York, United States</td>\n",
       "      <td>...</td>\n",
       "      <td>4.47</td>\n",
       "      <td>4.52</td>\n",
       "      <td>NaN</td>\n",
       "      <td>f</td>\n",
       "      <td>2</td>\n",
       "      <td>0</td>\n",
       "      <td>2</td>\n",
       "      <td>0</td>\n",
       "      <td>0.52</td>\n",
       "      <td>60.0</td>\n",
       "    </tr>\n",
       "    <tr>\n",
       "      <th>3</th>\n",
       "      <td>5136</td>\n",
       "      <td>20211204143024</td>\n",
       "      <td>2021-12-05</td>\n",
       "      <td>Spacious Brooklyn Duplex, Patio + Garden</td>\n",
       "      <td>We welcome you to stay in our lovely 2 br dupl...</td>\n",
       "      <td>NaN</td>\n",
       "      <td>7378</td>\n",
       "      <td>Rebecca</td>\n",
       "      <td>2009-02-03</td>\n",
       "      <td>Brooklyn, New York, United States</td>\n",
       "      <td>...</td>\n",
       "      <td>4.50</td>\n",
       "      <td>5.00</td>\n",
       "      <td>NaN</td>\n",
       "      <td>f</td>\n",
       "      <td>1</td>\n",
       "      <td>1</td>\n",
       "      <td>0</td>\n",
       "      <td>0</td>\n",
       "      <td>0.02</td>\n",
       "      <td>275.0</td>\n",
       "    </tr>\n",
       "    <tr>\n",
       "      <th>4</th>\n",
       "      <td>5178</td>\n",
       "      <td>20211204143024</td>\n",
       "      <td>2021-12-05</td>\n",
       "      <td>Large Furnished Room Near B'way</td>\n",
       "      <td>Please don’t expect the luxury here just a bas...</td>\n",
       "      <td>Theater district, many restaurants around here.</td>\n",
       "      <td>8967</td>\n",
       "      <td>Shunichi</td>\n",
       "      <td>2009-03-03</td>\n",
       "      <td>New York, New York, United States</td>\n",
       "      <td>...</td>\n",
       "      <td>4.87</td>\n",
       "      <td>4.36</td>\n",
       "      <td>NaN</td>\n",
       "      <td>f</td>\n",
       "      <td>1</td>\n",
       "      <td>0</td>\n",
       "      <td>1</td>\n",
       "      <td>0</td>\n",
       "      <td>3.68</td>\n",
       "      <td>68.0</td>\n",
       "    </tr>\n",
       "  </tbody>\n",
       "</table>\n",
       "<p>5 rows × 70 columns</p>\n",
       "</div>"
      ],
      "text/plain": [
       "     id       scrape_id last_scraped  \\\n",
       "0  2595  20211204143024   2021-12-05   \n",
       "1  3831  20211204143024   2021-12-05   \n",
       "2  5121  20211204143024   2021-12-05   \n",
       "3  5136  20211204143024   2021-12-05   \n",
       "4  5178  20211204143024   2021-12-05   \n",
       "\n",
       "                                                name  \\\n",
       "0                              Skylit Midtown Castle   \n",
       "1  Whole flr w/private bdrm, bath & kitchen(pls r...   \n",
       "2                                    BlissArtsSpace!   \n",
       "3           Spacious Brooklyn Duplex, Patio + Garden   \n",
       "4                   Large Furnished Room Near B'way　   \n",
       "\n",
       "                                         description  \\\n",
       "0  Beautiful, spacious skylit studio in the heart...   \n",
       "1  Enjoy 500 s.f. top floor in 1899 brownstone, w...   \n",
       "2  <b>The space</b><br />HELLO EVERYONE AND THANK...   \n",
       "3  We welcome you to stay in our lovely 2 br dupl...   \n",
       "4  Please don’t expect the luxury here just a bas...   \n",
       "\n",
       "                               neighborhood_overview  host_id    host_name  \\\n",
       "0  Centrally located in the heart of Manhattan ju...     2845     Jennifer   \n",
       "1  Just the right mix of urban center and local n...     4869  LisaRoxanne   \n",
       "2                                                NaN     7356        Garon   \n",
       "3                                                NaN     7378      Rebecca   \n",
       "4    Theater district, many restaurants around here.     8967     Shunichi   \n",
       "\n",
       "   host_since                      host_location  ... review_scores_location  \\\n",
       "0  2008-09-09  New York, New York, United States  ...                   4.86   \n",
       "1  2008-12-07  New York, New York, United States  ...                   4.71   \n",
       "2  2009-02-03  New York, New York, United States  ...                   4.47   \n",
       "3  2009-02-03  Brooklyn, New York, United States  ...                   4.50   \n",
       "4  2009-03-03  New York, New York, United States  ...                   4.87   \n",
       "\n",
       "  review_scores_value license instant_bookable calculated_host_listings_count  \\\n",
       "0                4.41     NaN                f                              3   \n",
       "1                4.64     NaN                f                              1   \n",
       "2                4.52     NaN                f                              2   \n",
       "3                5.00     NaN                f                              1   \n",
       "4                4.36     NaN                f                              1   \n",
       "\n",
       "  calculated_host_listings_count_entire_homes  \\\n",
       "0                                           3   \n",
       "1                                           1   \n",
       "2                                           0   \n",
       "3                                           1   \n",
       "4                                           0   \n",
       "\n",
       "   calculated_host_listings_count_private_rooms  \\\n",
       "0                                             0   \n",
       "1                                             0   \n",
       "2                                             2   \n",
       "3                                             0   \n",
       "4                                             1   \n",
       "\n",
       "   calculated_host_listings_count_shared_rooms reviews_per_month label_price  \n",
       "0                                            0              0.33       150.0  \n",
       "1                                            0              4.86        75.0  \n",
       "2                                            0              0.52        60.0  \n",
       "3                                            0              0.02       275.0  \n",
       "4                                            0              3.68        68.0  \n",
       "\n",
       "[5 rows x 70 columns]"
      ]
     },
     "execution_count": 18,
     "metadata": {},
     "output_type": "execute_result"
    }
   ],
   "source": [
    "df.head()"
   ]
  },
  {
   "cell_type": "markdown",
   "metadata": {},
   "source": [
    "**Task**: Check that the values of `price` and `label_price` are *not* identical. \n",
    "\n",
    "You will do this by subtracting the two columns and finding the resulting *unique values*  of the resulting difference. <br>Note: If all values are identical, the difference would not contain unique values. If this is the case, outlier removal did not work."
   ]
  },
  {
   "cell_type": "code",
   "execution_count": 19,
   "metadata": {},
   "outputs": [
    {
     "name": "stdout",
     "output_type": "stream",
     "text": [
      "[ 0.000e+00  1.500e+03  3.000e+02  1.000e+03  1.979e+03 -1.000e+00\n",
      "  8.990e+02  2.000e+02  9.990e+02  5.000e+02 -8.000e+00  5.000e+03\n",
      "  4.250e+03  5.500e+02  2.500e+02  5.500e+03  1.750e+03  2.750e+03\n",
      "  6.000e+02 -1.100e+01  1.249e+03  4.330e+02  5.700e+01  3.930e+02\n",
      " -4.000e+00  4.000e+02  1.695e+03  8.990e+03  2.140e+02 -1.400e+01\n",
      "  8.999e+03  7.630e+02 -2.000e+00 -9.000e+00  2.430e+02  1.000e+02\n",
      "  6.400e+01  2.974e+03  7.700e+01 -3.000e+00 -7.000e+00  3.500e+02\n",
      "  2.450e+02  8.100e+01  5.710e+02  6.314e+03 -5.000e+00 -1.000e+01\n",
      "  2.000e+00  9.900e+01  1.200e+03  4.300e+02  1.100e+03  8.500e+01\n",
      "  4.000e+03  9.000e+03  1.350e+03  5.000e+01  2.000e+03  1.299e+03\n",
      "  1.430e+02  1.499e+03  3.700e+02 -1.900e+01  6.184e+03 -1.300e+01\n",
      "  2.210e+02  1.857e+03 -1.500e+01  9.000e+02  7.500e+01 -6.000e+00\n",
      "  6.430e+02  3.929e+03  2.910e+02  3.990e+02  8.000e+03  5.429e+03\n",
      "  3.000e+03 -1.800e+01  5.143e+03  1.400e+03  4.750e+02  2.214e+03\n",
      "  1.910e+02  4.250e+02  1.250e+02  3.330e+02  4.990e+02  8.000e+02\n",
      "  2.250e+02  2.500e+03  8.190e+02  6.000e+03  3.030e+02  3.070e+02\n",
      "  1.640e+02  3.420e+02  5.600e+01  2.600e+03  2.200e+03  5.700e+02\n",
      "  1.642e+03  7.000e+00  9.810e+02  2.120e+02  1.850e+03  4.500e+01\n",
      "  4.510e+02  5.120e+02  2.360e+02  6.200e+01  1.020e+02  2.590e+02\n",
      "  7.500e+02  9.750e+02  5.290e+02  2.960e+02  9.500e+02  1.600e+03\n",
      "  2.750e+02  4.640e+02  2.570e+02 -2.900e+01 -1.700e+01  9.500e+01\n",
      "  2.850e+02  3.382e+03  1.839e+03  1.261e+03  2.900e+01  2.260e+02\n",
      "  1.130e+02  9.000e+00  2.160e+02  1.160e+02 -1.200e+01  4.950e+02\n",
      "  2.500e+01  2.860e+02  2.557e+03  1.614e+03  7.100e+01  5.400e+01\n",
      "  5.750e+02  1.700e+03  2.400e+01  1.700e+01  1.140e+02  2.900e+02\n",
      "  2.990e+02  9.950e+02  1.760e+02  8.300e+02  2.520e+03  8.650e+02\n",
      "  6.700e+01  1.797e+03  2.729e+03  7.600e+02  1.640e+03  6.860e+02\n",
      "  2.490e+02  3.730e+02  5.500e+01  7.420e+02  2.920e+02  1.436e+03\n",
      "  3.860e+02  3.570e+02  4.740e+02  2.333e+03  1.100e+01  1.400e+01\n",
      "  3.143e+03  4.500e+02  8.300e+01  1.990e+02  8.560e+02  1.370e+02\n",
      "  7.600e+01  1.290e+02  6.540e+02  3.400e+01  3.690e+02  8.170e+02\n",
      "  4.790e+02  8.970e+02  3.140e+02  3.320e+02  2.820e+02  1.090e+02\n",
      "  1.260e+02  1.490e+02  2.110e+02  1.232e+03  3.464e+03  2.119e+03\n",
      "  3.310e+02  5.650e+02  1.071e+03  2.855e+03  1.050e+03  1.157e+03\n",
      "  4.655e+03  9.800e+02]\n"
     ]
    }
   ],
   "source": [
    "# YOUR CODE HERE\n",
    "price_diff = df['price'] - df['label_price']\n",
    "\n",
    "print(price_diff.unique())"
   ]
  },
  {
   "cell_type": "markdown",
   "metadata": {},
   "source": [
    "### b. Handle Missing Data\n",
    "\n",
    "Next we are going to find missing values in our entire dataset and impute the missing values by\n",
    "replace them with means."
   ]
  },
  {
   "cell_type": "markdown",
   "metadata": {},
   "source": [
    "#### Identifying missingness"
   ]
  },
  {
   "cell_type": "markdown",
   "metadata": {},
   "source": [
    "**Task**: Check if a given value in the data is missing, and sum up the resulting values by columns. Save this sum to variable `nan_count`. Print the results."
   ]
  },
  {
   "cell_type": "code",
   "execution_count": 20,
   "metadata": {},
   "outputs": [
    {
     "data": {
      "text/plain": [
       "id                                                 0\n",
       "scrape_id                                          0\n",
       "last_scraped                                       0\n",
       "name                                              13\n",
       "description                                     1192\n",
       "                                                ... \n",
       "calculated_host_listings_count_entire_homes        0\n",
       "calculated_host_listings_count_private_rooms       0\n",
       "calculated_host_listings_count_shared_rooms        0\n",
       "reviews_per_month                               9504\n",
       "label_price                                        0\n",
       "Length: 70, dtype: int64"
      ]
     },
     "execution_count": 20,
     "metadata": {},
     "output_type": "execute_result"
    }
   ],
   "source": [
    "nan_count = df.isna().sum()\n",
    "nan_count"
   ]
  },
  {
   "cell_type": "markdown",
   "metadata": {},
   "source": [
    "Those are more columns than we can eyeball! For this exercise, we don't care about the number of missing values -- we just want to get a list of columns that have *any* missing values.\n",
    "\n",
    "<b>Task</b>: From the variable `nan_count`, create a new series called `nan_detected` that contains `True` or `False` values that indicate whether the number of missing values is *not zero*:"
   ]
  },
  {
   "cell_type": "code",
   "execution_count": 39,
   "metadata": {},
   "outputs": [
    {
     "data": {
      "text/plain": [
       "id                                              False\n",
       "scrape_id                                       False\n",
       "last_scraped                                    False\n",
       "name                                             True\n",
       "description                                      True\n",
       "                                                ...  \n",
       "calculated_host_listings_count_entire_homes     False\n",
       "calculated_host_listings_count_private_rooms    False\n",
       "calculated_host_listings_count_shared_rooms     False\n",
       "reviews_per_month                                True\n",
       "label_price                                     False\n",
       "Length: 70, dtype: bool"
      ]
     },
     "execution_count": 39,
     "metadata": {},
     "output_type": "execute_result"
    }
   ],
   "source": [
    "nan_detected = nan_count != 0\n",
    "nan_detected"
   ]
  },
  {
   "cell_type": "markdown",
   "metadata": {},
   "source": [
    "Since replacing the missing values with the mean only makes sense for the columns that contain numerical values (and not for strings), let us create another condition: the *type* of the column must be `int` or `float`."
   ]
  },
  {
   "cell_type": "markdown",
   "metadata": {},
   "source": [
    "**Task**: Create a series that contains `True` if the type of the column is either `int64` or `float64`. Save the results to the variable `is_int_or_float`."
   ]
  },
  {
   "cell_type": "code",
   "execution_count": 45,
   "metadata": {},
   "outputs": [
    {
     "data": {
      "text/plain": [
       "id                                               True\n",
       "scrape_id                                        True\n",
       "last_scraped                                    False\n",
       "name                                            False\n",
       "description                                     False\n",
       "                                                ...  \n",
       "calculated_host_listings_count_entire_homes      True\n",
       "calculated_host_listings_count_private_rooms     True\n",
       "calculated_host_listings_count_shared_rooms      True\n",
       "reviews_per_month                                True\n",
       "label_price                                      True\n",
       "Length: 70, dtype: bool"
      ]
     },
     "execution_count": 45,
     "metadata": {},
     "output_type": "execute_result"
    }
   ],
   "source": [
    "is_int_or_float = df.dtypes.apply(lambda dtype: dtype == np.int64 or dtype == np.float64)\n",
    "is_int_or_float\n"
   ]
  },
  {
   "cell_type": "markdown",
   "metadata": {},
   "source": [
    "<b>Task</b>: Combine the two binary series (`nan_detected` and `is_int_or_float`) into a new series named `to_impute`. It will contain the value `True` if a column contains missing values *and* is of type 'int' or 'float'"
   ]
  },
  {
   "cell_type": "code",
   "execution_count": 46,
   "metadata": {},
   "outputs": [
    {
     "data": {
      "text/plain": [
       "id                                              False\n",
       "scrape_id                                       False\n",
       "last_scraped                                    False\n",
       "name                                            False\n",
       "description                                     False\n",
       "                                                ...  \n",
       "calculated_host_listings_count_entire_homes     False\n",
       "calculated_host_listings_count_private_rooms    False\n",
       "calculated_host_listings_count_shared_rooms     False\n",
       "reviews_per_month                                True\n",
       "label_price                                     False\n",
       "Length: 70, dtype: bool"
      ]
     },
     "execution_count": 46,
     "metadata": {},
     "output_type": "execute_result"
    }
   ],
   "source": [
    "to_impute = nan_detected & is_int_or_float\n",
    "to_impute"
   ]
  },
  {
   "cell_type": "markdown",
   "metadata": {},
   "source": [
    "Finally, let's display a list that contains just the selected column names contained in `to_impute`:"
   ]
  },
  {
   "cell_type": "code",
   "execution_count": 47,
   "metadata": {},
   "outputs": [
    {
     "data": {
      "text/plain": [
       "Index(['host_listings_count', 'host_total_listings_count', 'bathrooms',\n",
       "       'bedrooms', 'beds', 'minimum_minimum_nights', 'maximum_minimum_nights',\n",
       "       'minimum_maximum_nights', 'maximum_maximum_nights',\n",
       "       'minimum_nights_avg_ntm', 'maximum_nights_avg_ntm', 'calendar_updated',\n",
       "       'review_scores_rating', 'review_scores_accuracy',\n",
       "       'review_scores_cleanliness', 'review_scores_checkin',\n",
       "       'review_scores_communication', 'review_scores_location',\n",
       "       'review_scores_value', 'reviews_per_month'],\n",
       "      dtype='object')"
      ]
     },
     "execution_count": 47,
     "metadata": {},
     "output_type": "execute_result"
    }
   ],
   "source": [
    "df.columns[to_impute]"
   ]
  },
  {
   "cell_type": "markdown",
   "metadata": {},
   "source": [
    "We just identified and displayed the list of candidate columns for potentially replacing missing values with the column mean."
   ]
  },
  {
   "cell_type": "markdown",
   "metadata": {},
   "source": [
    "Assume that you have decided that you should impute the values for these specific columns: `host_listings_count`, `host_total_listings_count`, `bathrooms`, `bedrooms`, and `beds`:"
   ]
  },
  {
   "cell_type": "code",
   "execution_count": 48,
   "metadata": {},
   "outputs": [],
   "source": [
    "to_impute_selected = ['host_listings_count', 'host_total_listings_count', 'bathrooms',\n",
    "       'bedrooms', 'beds']"
   ]
  },
  {
   "cell_type": "markdown",
   "metadata": {},
   "source": [
    "#### Keeping record of the missingness: creating dummy variables "
   ]
  },
  {
   "cell_type": "markdown",
   "metadata": {},
   "source": [
    "As a first step, you will now create dummy variables indicating the missingness of the values."
   ]
  },
  {
   "cell_type": "markdown",
   "metadata": {},
   "source": [
    "**Task**: For every column listed in `to_impute_selected`, create a new corresponding column called `<original-column-name>_na`. These columns should contain the a `True`or `False` value in place of `NaN`."
   ]
  },
  {
   "cell_type": "code",
   "execution_count": 49,
   "metadata": {},
   "outputs": [],
   "source": [
    "for column in to_impute_selected:\n",
    "    df[column + '_na'] = df[column].isna()"
   ]
  },
  {
   "cell_type": "markdown",
   "metadata": {},
   "source": [
    "Check that the DataFrame contains the new variables:"
   ]
  },
  {
   "cell_type": "code",
   "execution_count": 50,
   "metadata": {},
   "outputs": [
    {
     "data": {
      "text/html": [
       "<div>\n",
       "<style scoped>\n",
       "    .dataframe tbody tr th:only-of-type {\n",
       "        vertical-align: middle;\n",
       "    }\n",
       "\n",
       "    .dataframe tbody tr th {\n",
       "        vertical-align: top;\n",
       "    }\n",
       "\n",
       "    .dataframe thead th {\n",
       "        text-align: right;\n",
       "    }\n",
       "</style>\n",
       "<table border=\"1\" class=\"dataframe\">\n",
       "  <thead>\n",
       "    <tr style=\"text-align: right;\">\n",
       "      <th></th>\n",
       "      <th>id</th>\n",
       "      <th>scrape_id</th>\n",
       "      <th>last_scraped</th>\n",
       "      <th>name</th>\n",
       "      <th>description</th>\n",
       "      <th>neighborhood_overview</th>\n",
       "      <th>host_id</th>\n",
       "      <th>host_name</th>\n",
       "      <th>host_since</th>\n",
       "      <th>host_location</th>\n",
       "      <th>...</th>\n",
       "      <th>calculated_host_listings_count_entire_homes</th>\n",
       "      <th>calculated_host_listings_count_private_rooms</th>\n",
       "      <th>calculated_host_listings_count_shared_rooms</th>\n",
       "      <th>reviews_per_month</th>\n",
       "      <th>label_price</th>\n",
       "      <th>host_listings_count_na</th>\n",
       "      <th>host_total_listings_count_na</th>\n",
       "      <th>bathrooms_na</th>\n",
       "      <th>bedrooms_na</th>\n",
       "      <th>beds_na</th>\n",
       "    </tr>\n",
       "  </thead>\n",
       "  <tbody>\n",
       "    <tr>\n",
       "      <th>0</th>\n",
       "      <td>2595</td>\n",
       "      <td>20211204143024</td>\n",
       "      <td>2021-12-05</td>\n",
       "      <td>Skylit Midtown Castle</td>\n",
       "      <td>Beautiful, spacious skylit studio in the heart...</td>\n",
       "      <td>Centrally located in the heart of Manhattan ju...</td>\n",
       "      <td>2845</td>\n",
       "      <td>Jennifer</td>\n",
       "      <td>2008-09-09</td>\n",
       "      <td>New York, New York, United States</td>\n",
       "      <td>...</td>\n",
       "      <td>3</td>\n",
       "      <td>0</td>\n",
       "      <td>0</td>\n",
       "      <td>0.33</td>\n",
       "      <td>150.0</td>\n",
       "      <td>False</td>\n",
       "      <td>False</td>\n",
       "      <td>True</td>\n",
       "      <td>True</td>\n",
       "      <td>False</td>\n",
       "    </tr>\n",
       "    <tr>\n",
       "      <th>1</th>\n",
       "      <td>3831</td>\n",
       "      <td>20211204143024</td>\n",
       "      <td>2021-12-05</td>\n",
       "      <td>Whole flr w/private bdrm, bath &amp; kitchen(pls r...</td>\n",
       "      <td>Enjoy 500 s.f. top floor in 1899 brownstone, w...</td>\n",
       "      <td>Just the right mix of urban center and local n...</td>\n",
       "      <td>4869</td>\n",
       "      <td>LisaRoxanne</td>\n",
       "      <td>2008-12-07</td>\n",
       "      <td>New York, New York, United States</td>\n",
       "      <td>...</td>\n",
       "      <td>1</td>\n",
       "      <td>0</td>\n",
       "      <td>0</td>\n",
       "      <td>4.86</td>\n",
       "      <td>75.0</td>\n",
       "      <td>False</td>\n",
       "      <td>False</td>\n",
       "      <td>True</td>\n",
       "      <td>False</td>\n",
       "      <td>False</td>\n",
       "    </tr>\n",
       "    <tr>\n",
       "      <th>2</th>\n",
       "      <td>5121</td>\n",
       "      <td>20211204143024</td>\n",
       "      <td>2021-12-05</td>\n",
       "      <td>BlissArtsSpace!</td>\n",
       "      <td>&lt;b&gt;The space&lt;/b&gt;&lt;br /&gt;HELLO EVERYONE AND THANK...</td>\n",
       "      <td>NaN</td>\n",
       "      <td>7356</td>\n",
       "      <td>Garon</td>\n",
       "      <td>2009-02-03</td>\n",
       "      <td>New York, New York, United States</td>\n",
       "      <td>...</td>\n",
       "      <td>0</td>\n",
       "      <td>2</td>\n",
       "      <td>0</td>\n",
       "      <td>0.52</td>\n",
       "      <td>60.0</td>\n",
       "      <td>False</td>\n",
       "      <td>False</td>\n",
       "      <td>True</td>\n",
       "      <td>False</td>\n",
       "      <td>False</td>\n",
       "    </tr>\n",
       "    <tr>\n",
       "      <th>3</th>\n",
       "      <td>5136</td>\n",
       "      <td>20211204143024</td>\n",
       "      <td>2021-12-05</td>\n",
       "      <td>Spacious Brooklyn Duplex, Patio + Garden</td>\n",
       "      <td>We welcome you to stay in our lovely 2 br dupl...</td>\n",
       "      <td>NaN</td>\n",
       "      <td>7378</td>\n",
       "      <td>Rebecca</td>\n",
       "      <td>2009-02-03</td>\n",
       "      <td>Brooklyn, New York, United States</td>\n",
       "      <td>...</td>\n",
       "      <td>1</td>\n",
       "      <td>0</td>\n",
       "      <td>0</td>\n",
       "      <td>0.02</td>\n",
       "      <td>275.0</td>\n",
       "      <td>False</td>\n",
       "      <td>False</td>\n",
       "      <td>True</td>\n",
       "      <td>False</td>\n",
       "      <td>False</td>\n",
       "    </tr>\n",
       "    <tr>\n",
       "      <th>4</th>\n",
       "      <td>5178</td>\n",
       "      <td>20211204143024</td>\n",
       "      <td>2021-12-05</td>\n",
       "      <td>Large Furnished Room Near B'way</td>\n",
       "      <td>Please don’t expect the luxury here just a bas...</td>\n",
       "      <td>Theater district, many restaurants around here.</td>\n",
       "      <td>8967</td>\n",
       "      <td>Shunichi</td>\n",
       "      <td>2009-03-03</td>\n",
       "      <td>New York, New York, United States</td>\n",
       "      <td>...</td>\n",
       "      <td>0</td>\n",
       "      <td>1</td>\n",
       "      <td>0</td>\n",
       "      <td>3.68</td>\n",
       "      <td>68.0</td>\n",
       "      <td>False</td>\n",
       "      <td>False</td>\n",
       "      <td>True</td>\n",
       "      <td>False</td>\n",
       "      <td>False</td>\n",
       "    </tr>\n",
       "  </tbody>\n",
       "</table>\n",
       "<p>5 rows × 75 columns</p>\n",
       "</div>"
      ],
      "text/plain": [
       "     id       scrape_id last_scraped  \\\n",
       "0  2595  20211204143024   2021-12-05   \n",
       "1  3831  20211204143024   2021-12-05   \n",
       "2  5121  20211204143024   2021-12-05   \n",
       "3  5136  20211204143024   2021-12-05   \n",
       "4  5178  20211204143024   2021-12-05   \n",
       "\n",
       "                                                name  \\\n",
       "0                              Skylit Midtown Castle   \n",
       "1  Whole flr w/private bdrm, bath & kitchen(pls r...   \n",
       "2                                    BlissArtsSpace!   \n",
       "3           Spacious Brooklyn Duplex, Patio + Garden   \n",
       "4                   Large Furnished Room Near B'way　   \n",
       "\n",
       "                                         description  \\\n",
       "0  Beautiful, spacious skylit studio in the heart...   \n",
       "1  Enjoy 500 s.f. top floor in 1899 brownstone, w...   \n",
       "2  <b>The space</b><br />HELLO EVERYONE AND THANK...   \n",
       "3  We welcome you to stay in our lovely 2 br dupl...   \n",
       "4  Please don’t expect the luxury here just a bas...   \n",
       "\n",
       "                               neighborhood_overview  host_id    host_name  \\\n",
       "0  Centrally located in the heart of Manhattan ju...     2845     Jennifer   \n",
       "1  Just the right mix of urban center and local n...     4869  LisaRoxanne   \n",
       "2                                                NaN     7356        Garon   \n",
       "3                                                NaN     7378      Rebecca   \n",
       "4    Theater district, many restaurants around here.     8967     Shunichi   \n",
       "\n",
       "   host_since                      host_location  ...  \\\n",
       "0  2008-09-09  New York, New York, United States  ...   \n",
       "1  2008-12-07  New York, New York, United States  ...   \n",
       "2  2009-02-03  New York, New York, United States  ...   \n",
       "3  2009-02-03  Brooklyn, New York, United States  ...   \n",
       "4  2009-03-03  New York, New York, United States  ...   \n",
       "\n",
       "  calculated_host_listings_count_entire_homes  \\\n",
       "0                                           3   \n",
       "1                                           1   \n",
       "2                                           0   \n",
       "3                                           1   \n",
       "4                                           0   \n",
       "\n",
       "  calculated_host_listings_count_private_rooms  \\\n",
       "0                                            0   \n",
       "1                                            0   \n",
       "2                                            2   \n",
       "3                                            0   \n",
       "4                                            1   \n",
       "\n",
       "  calculated_host_listings_count_shared_rooms reviews_per_month label_price  \\\n",
       "0                                           0              0.33       150.0   \n",
       "1                                           0              4.86        75.0   \n",
       "2                                           0              0.52        60.0   \n",
       "3                                           0              0.02       275.0   \n",
       "4                                           0              3.68        68.0   \n",
       "\n",
       "  host_listings_count_na  host_total_listings_count_na  bathrooms_na  \\\n",
       "0                  False                         False          True   \n",
       "1                  False                         False          True   \n",
       "2                  False                         False          True   \n",
       "3                  False                         False          True   \n",
       "4                  False                         False          True   \n",
       "\n",
       "  bedrooms_na beds_na  \n",
       "0        True   False  \n",
       "1       False   False  \n",
       "2       False   False  \n",
       "3       False   False  \n",
       "4       False   False  \n",
       "\n",
       "[5 rows x 75 columns]"
      ]
     },
     "execution_count": 50,
     "metadata": {},
     "output_type": "execute_result"
    }
   ],
   "source": [
    "df.head()"
   ]
  },
  {
   "cell_type": "markdown",
   "metadata": {},
   "source": [
    "#### Replacing the missing values with mean values of the column"
   ]
  },
  {
   "cell_type": "markdown",
   "metadata": {},
   "source": [
    "**Task**: For every column listed in `to_impute_selected`, fill the missing values with the corresponding mean of all values in the column (do not create new columns)."
   ]
  },
  {
   "cell_type": "code",
   "execution_count": 51,
   "metadata": {},
   "outputs": [],
   "source": [
    "# YOUR CODE HERE\n",
    "for column in to_impute_selected:\n",
    "    mean_value = df[column].mean()\n",
    "    df[column] = df[column].fillna(mean_value)"
   ]
  },
  {
   "cell_type": "markdown",
   "metadata": {},
   "source": [
    "Check your results below. The code displays the count of missing values for each of the selected columns. "
   ]
  },
  {
   "cell_type": "code",
   "execution_count": 52,
   "metadata": {},
   "outputs": [
    {
     "name": "stdout",
     "output_type": "stream",
     "text": [
      "host_listings_count missing values count :0\n",
      "host_total_listings_count missing values count :0\n",
      "bathrooms missing values count :38277\n",
      "bedrooms missing values count :0\n",
      "beds missing values count :0\n"
     ]
    }
   ],
   "source": [
    "for colname in to_impute_selected:\n",
    "    print(\"{} missing values count :{}\".format(colname, np.sum(df[colname].isnull(), axis = 0)))\n"
   ]
  },
  {
   "cell_type": "markdown",
   "metadata": {},
   "source": [
    "Why did the `bathrooms` column retain missing values after our imputation?"
   ]
  },
  {
   "cell_type": "markdown",
   "metadata": {},
   "source": [
    "**Task**: List the unique values of the `bathrooms` column."
   ]
  },
  {
   "cell_type": "code",
   "execution_count": 53,
   "metadata": {},
   "outputs": [
    {
     "name": "stdout",
     "output_type": "stream",
     "text": [
      "[nan]\n"
     ]
    }
   ],
   "source": [
    "# YOUR CODE HERE\n",
    "print(df['bathrooms'].unique())"
   ]
  },
  {
   "cell_type": "markdown",
   "metadata": {},
   "source": [
    "The column did not contain a single value (except the `NaN` indicator) to begin with."
   ]
  },
  {
   "cell_type": "markdown",
   "metadata": {},
   "source": [
    "## Part 3. Perform One-Hot Encoding"
   ]
  },
  {
   "cell_type": "markdown",
   "metadata": {},
   "source": [
    "Machine learning algorithms operate on numerical inputs. Therefore, we have to transform text data into some form of numerical representation to prepare our data for the model training phase. Some features that contain text data are categorical. Others are not. For example, we removed all of the features that contained URLs. These features were not categorical, but rather contained what is called unstructured text. However, not all features that contain unstructured text should be removed, as they can contain useful information for our machine learning problem. Unstructured text data is usually handled by Natural Language Processing (NLP) techniques. You will learn more about NLP later in this course. \n",
    "\n",
    "However, for features that contain categorical values, one-hot encoding is a common feature engineering technique that transforms them into binary representations. "
   ]
  },
  {
   "cell_type": "markdown",
   "metadata": {},
   "source": [
    "We will first choose one feature column to one-hot encode: `host_response_time`. Let's inspect the unique values this feature can have. "
   ]
  },
  {
   "cell_type": "code",
   "execution_count": 54,
   "metadata": {},
   "outputs": [
    {
     "data": {
      "text/plain": [
       "array(['within a day', 'a few days or more', 'within an hour', nan,\n",
       "       'within a few hours'], dtype=object)"
      ]
     },
     "execution_count": 54,
     "metadata": {},
     "output_type": "execute_result"
    }
   ],
   "source": [
    "df['host_response_time'].unique()"
   ]
  },
  {
   "cell_type": "markdown",
   "metadata": {},
   "source": [
    "Note that each entry can contain one of five possible values. \n",
    "\n",
    "**Task**: Since one of these values is `NaN`, replace every entry in the column `host_response_time` that contains a `NaN` value with the string 'unavailable'."
   ]
  },
  {
   "cell_type": "code",
   "execution_count": 55,
   "metadata": {},
   "outputs": [],
   "source": [
    "# YOUR CODE HERE\n",
    "df['host_response_time'] = df['host_response_time'].fillna('unavailable')"
   ]
  },
  {
   "cell_type": "markdown",
   "metadata": {},
   "source": [
    "Let's inspect the `host_response_time` column to see the new values."
   ]
  },
  {
   "cell_type": "code",
   "execution_count": 56,
   "metadata": {},
   "outputs": [
    {
     "data": {
      "text/plain": [
       "array(['within a day', 'a few days or more', 'within an hour',\n",
       "       'unavailable', 'within a few hours'], dtype=object)"
      ]
     },
     "execution_count": 56,
     "metadata": {},
     "output_type": "execute_result"
    }
   ],
   "source": [
    "df['host_response_time'].unique()"
   ]
  },
  {
   "cell_type": "markdown",
   "metadata": {},
   "source": [
    "**Task**: Use `pd.get_dummies()` to one-hot encode the `host_response_time` column. Save the result to DataFrame `df_host_response_time`. "
   ]
  },
  {
   "cell_type": "code",
   "execution_count": 58,
   "metadata": {},
   "outputs": [
    {
     "data": {
      "text/html": [
       "<div>\n",
       "<style scoped>\n",
       "    .dataframe tbody tr th:only-of-type {\n",
       "        vertical-align: middle;\n",
       "    }\n",
       "\n",
       "    .dataframe tbody tr th {\n",
       "        vertical-align: top;\n",
       "    }\n",
       "\n",
       "    .dataframe thead th {\n",
       "        text-align: right;\n",
       "    }\n",
       "</style>\n",
       "<table border=\"1\" class=\"dataframe\">\n",
       "  <thead>\n",
       "    <tr style=\"text-align: right;\">\n",
       "      <th></th>\n",
       "      <th>a few days or more</th>\n",
       "      <th>unavailable</th>\n",
       "      <th>within a day</th>\n",
       "      <th>within a few hours</th>\n",
       "      <th>within an hour</th>\n",
       "    </tr>\n",
       "  </thead>\n",
       "  <tbody>\n",
       "    <tr>\n",
       "      <th>0</th>\n",
       "      <td>0</td>\n",
       "      <td>0</td>\n",
       "      <td>1</td>\n",
       "      <td>0</td>\n",
       "      <td>0</td>\n",
       "    </tr>\n",
       "    <tr>\n",
       "      <th>1</th>\n",
       "      <td>1</td>\n",
       "      <td>0</td>\n",
       "      <td>0</td>\n",
       "      <td>0</td>\n",
       "      <td>0</td>\n",
       "    </tr>\n",
       "    <tr>\n",
       "      <th>2</th>\n",
       "      <td>0</td>\n",
       "      <td>0</td>\n",
       "      <td>0</td>\n",
       "      <td>0</td>\n",
       "      <td>1</td>\n",
       "    </tr>\n",
       "    <tr>\n",
       "      <th>3</th>\n",
       "      <td>0</td>\n",
       "      <td>0</td>\n",
       "      <td>1</td>\n",
       "      <td>0</td>\n",
       "      <td>0</td>\n",
       "    </tr>\n",
       "    <tr>\n",
       "      <th>4</th>\n",
       "      <td>0</td>\n",
       "      <td>0</td>\n",
       "      <td>1</td>\n",
       "      <td>0</td>\n",
       "      <td>0</td>\n",
       "    </tr>\n",
       "    <tr>\n",
       "      <th>...</th>\n",
       "      <td>...</td>\n",
       "      <td>...</td>\n",
       "      <td>...</td>\n",
       "      <td>...</td>\n",
       "      <td>...</td>\n",
       "    </tr>\n",
       "    <tr>\n",
       "      <th>38272</th>\n",
       "      <td>0</td>\n",
       "      <td>0</td>\n",
       "      <td>0</td>\n",
       "      <td>1</td>\n",
       "      <td>0</td>\n",
       "    </tr>\n",
       "    <tr>\n",
       "      <th>38273</th>\n",
       "      <td>0</td>\n",
       "      <td>0</td>\n",
       "      <td>0</td>\n",
       "      <td>1</td>\n",
       "      <td>0</td>\n",
       "    </tr>\n",
       "    <tr>\n",
       "      <th>38274</th>\n",
       "      <td>0</td>\n",
       "      <td>0</td>\n",
       "      <td>0</td>\n",
       "      <td>0</td>\n",
       "      <td>1</td>\n",
       "    </tr>\n",
       "    <tr>\n",
       "      <th>38275</th>\n",
       "      <td>0</td>\n",
       "      <td>0</td>\n",
       "      <td>0</td>\n",
       "      <td>0</td>\n",
       "      <td>1</td>\n",
       "    </tr>\n",
       "    <tr>\n",
       "      <th>38276</th>\n",
       "      <td>0</td>\n",
       "      <td>0</td>\n",
       "      <td>0</td>\n",
       "      <td>0</td>\n",
       "      <td>1</td>\n",
       "    </tr>\n",
       "  </tbody>\n",
       "</table>\n",
       "<p>38277 rows × 5 columns</p>\n",
       "</div>"
      ],
      "text/plain": [
       "       a few days or more  unavailable  within a day  within a few hours  \\\n",
       "0                       0            0             1                   0   \n",
       "1                       1            0             0                   0   \n",
       "2                       0            0             0                   0   \n",
       "3                       0            0             1                   0   \n",
       "4                       0            0             1                   0   \n",
       "...                   ...          ...           ...                 ...   \n",
       "38272                   0            0             0                   1   \n",
       "38273                   0            0             0                   1   \n",
       "38274                   0            0             0                   0   \n",
       "38275                   0            0             0                   0   \n",
       "38276                   0            0             0                   0   \n",
       "\n",
       "       within an hour  \n",
       "0                   0  \n",
       "1                   0  \n",
       "2                   1  \n",
       "3                   0  \n",
       "4                   0  \n",
       "...               ...  \n",
       "38272               0  \n",
       "38273               0  \n",
       "38274               1  \n",
       "38275               1  \n",
       "38276               1  \n",
       "\n",
       "[38277 rows x 5 columns]"
      ]
     },
     "execution_count": 58,
     "metadata": {},
     "output_type": "execute_result"
    }
   ],
   "source": [
    "df_host_response_time = pd.get_dummies(df['host_response_time'])\n",
    "df_host_response_time"
   ]
  },
  {
   "cell_type": "markdown",
   "metadata": {},
   "source": [
    "**Task**: Since the `pd.get_dummies()` function returned a new DataFrame rather than making the changes to the original DataFrame `df`, add the new DataFrame `df_host_response_time` to DataFrame `df`, and delete the original `host_response_time` column from DataFrame `df`.\n"
   ]
  },
  {
   "cell_type": "code",
   "execution_count": 59,
   "metadata": {},
   "outputs": [],
   "source": [
    "# YOUR CODE HERE\n",
    "df = pd.concat([df, df_host_response_time], axis=1)\n",
    "df.drop('host_response_time', axis=1, inplace=True)"
   ]
  },
  {
   "cell_type": "markdown",
   "metadata": {},
   "source": [
    "Let's inspect DataFrame `df` to see the changes that have been made."
   ]
  },
  {
   "cell_type": "code",
   "execution_count": 60,
   "metadata": {},
   "outputs": [
    {
     "data": {
      "text/plain": [
       "Index(['id', 'scrape_id', 'last_scraped', 'name', 'description',\n",
       "       'neighborhood_overview', 'host_id', 'host_name', 'host_since',\n",
       "       'host_location', 'host_about', 'host_response_rate',\n",
       "       'host_acceptance_rate', 'host_is_superhost', 'host_neighbourhood',\n",
       "       'host_listings_count', 'host_total_listings_count',\n",
       "       'host_verifications', 'host_has_profile_pic', 'host_identity_verified',\n",
       "       'neighbourhood', 'neighbourhood_cleansed',\n",
       "       'neighbourhood_group_cleansed', 'latitude', 'longitude',\n",
       "       'property_type', 'room_type', 'accommodates', 'bathrooms',\n",
       "       'bathrooms_text', 'bedrooms', 'beds', 'amenities', 'price',\n",
       "       'minimum_nights', 'maximum_nights', 'minimum_minimum_nights',\n",
       "       'maximum_minimum_nights', 'minimum_maximum_nights',\n",
       "       'maximum_maximum_nights', 'minimum_nights_avg_ntm',\n",
       "       'maximum_nights_avg_ntm', 'calendar_updated', 'has_availability',\n",
       "       'availability_30', 'availability_60', 'availability_90',\n",
       "       'availability_365', 'calendar_last_scraped', 'number_of_reviews',\n",
       "       'number_of_reviews_ltm', 'number_of_reviews_l30d', 'first_review',\n",
       "       'last_review', 'review_scores_rating', 'review_scores_accuracy',\n",
       "       'review_scores_cleanliness', 'review_scores_checkin',\n",
       "       'review_scores_communication', 'review_scores_location',\n",
       "       'review_scores_value', 'license', 'instant_bookable',\n",
       "       'calculated_host_listings_count',\n",
       "       'calculated_host_listings_count_entire_homes',\n",
       "       'calculated_host_listings_count_private_rooms',\n",
       "       'calculated_host_listings_count_shared_rooms', 'reviews_per_month',\n",
       "       'label_price', 'host_listings_count_na', 'host_total_listings_count_na',\n",
       "       'bathrooms_na', 'bedrooms_na', 'beds_na', 'a few days or more',\n",
       "       'unavailable', 'within a day', 'within a few hours', 'within an hour'],\n",
       "      dtype='object')"
      ]
     },
     "execution_count": 60,
     "metadata": {},
     "output_type": "execute_result"
    }
   ],
   "source": [
    "df.columns"
   ]
  },
  {
   "cell_type": "markdown",
   "metadata": {},
   "source": [
    "#### One-hot encode additional features\n",
    "\n",
    "**Task**: Use the code cell below to find columns that contain string values  (the 'object' data type) and inspect the *number* of unique values each column has."
   ]
  },
  {
   "cell_type": "code",
   "execution_count": 61,
   "metadata": {},
   "outputs": [
    {
     "data": {
      "text/plain": [
       "last_scraped                        2\n",
       "name                            36870\n",
       "description                     34133\n",
       "neighborhood_overview           18616\n",
       "host_name                        9123\n",
       "host_since                       4289\n",
       "host_location                    1747\n",
       "host_about                      14424\n",
       "host_response_rate                 88\n",
       "host_acceptance_rate              101\n",
       "host_is_superhost                   2\n",
       "host_neighbourhood                484\n",
       "host_verifications                526\n",
       "host_has_profile_pic                2\n",
       "host_identity_verified              2\n",
       "neighbourhood                     207\n",
       "neighbourhood_cleansed            222\n",
       "neighbourhood_group_cleansed        5\n",
       "property_type                      78\n",
       "room_type                           4\n",
       "bathrooms_text                     30\n",
       "amenities                       31740\n",
       "has_availability                    2\n",
       "calendar_last_scraped               2\n",
       "first_review                     3171\n",
       "last_review                      2560\n",
       "license                             1\n",
       "instant_bookable                    2\n",
       "dtype: int64"
      ]
     },
     "execution_count": 61,
     "metadata": {},
     "output_type": "execute_result"
    }
   ],
   "source": [
    "# YOUR CODE HERE\n",
    "object_columns = df.select_dtypes(include='object')\n",
    "unique_counts = object_columns.nunique()\n",
    "unique_counts"
   ]
  },
  {
   "cell_type": "markdown",
   "metadata": {},
   "source": [
    "**Task**: Based on your findings, identify features that you think should be transformed using one-hot encoding.\n",
    "\n",
    "1. Use the code cell below to inspect the unique *values* that each of these features have."
   ]
  },
  {
   "cell_type": "code",
   "execution_count": 64,
   "metadata": {},
   "outputs": [
    {
     "data": {
      "text/plain": [
       "['last_scraped',\n",
       " 'host_is_superhost',\n",
       " 'host_has_profile_pic',\n",
       " 'host_identity_verified',\n",
       " 'has_availability',\n",
       " 'calendar_last_scraped',\n",
       " 'license',\n",
       " 'instant_bookable']"
      ]
     },
     "execution_count": 64,
     "metadata": {},
     "output_type": "execute_result"
    }
   ],
   "source": [
    "# YOUR CODE HERE\n",
    "candidates = unique_counts[unique_counts < 3].index.tolist()\n",
    "candidates"
   ]
  },
  {
   "cell_type": "markdown",
   "metadata": {},
   "source": [
    "2.  List these features and explain why they would be suitable for one-hot encoding. Note your findings in the markdown cell below."
   ]
  },
  {
   "cell_type": "markdown",
   "metadata": {},
   "source": [
    "These features are good for one-hot encoding because the data values are likely to correspond to a very few number of options like \"yes\" and \"no\", which can be easily mapped to with numbers with one-hot encoding."
   ]
  },
  {
   "cell_type": "markdown",
   "metadata": {},
   "source": [
    "**Task**: In the code cell below, one-hot encode one of the features you have identified and replace the original column in DataFrame `df` with the new one-hot encoded columns. "
   ]
  },
  {
   "cell_type": "code",
   "execution_count": 65,
   "metadata": {},
   "outputs": [],
   "source": [
    "# YOUR CODE HERE\n",
    "encoded_columns = pd.get_dummies(df[candidates])\n",
    "df.drop(candidates, axis=1, inplace=True)\n",
    "df = pd.concat([df, encoded_columns], axis=1)"
   ]
  },
  {
   "cell_type": "markdown",
   "metadata": {},
   "source": [
    "## Part 4. Explore Your Data"
   ]
  },
  {
   "cell_type": "markdown",
   "metadata": {},
   "source": [
    "You will now perform exploratory data analysis in preparation for selecting your features as part of feature engineering. \n",
    "\n",
    "#### Identify Correlations\n",
    "\n",
    "We will focus on identifying which features in the data have the highest correlation with the label."
   ]
  },
  {
   "cell_type": "markdown",
   "metadata": {},
   "source": [
    "Let's first run the `corr()` method on DataFrame `df` and save the result to the variable `corr_matrix`. Let's round the resulting correlations to five decimal places:"
   ]
  },
  {
   "cell_type": "code",
   "execution_count": 66,
   "metadata": {},
   "outputs": [
    {
     "data": {
      "text/html": [
       "<div>\n",
       "<style scoped>\n",
       "    .dataframe tbody tr th:only-of-type {\n",
       "        vertical-align: middle;\n",
       "    }\n",
       "\n",
       "    .dataframe tbody tr th {\n",
       "        vertical-align: top;\n",
       "    }\n",
       "\n",
       "    .dataframe thead th {\n",
       "        text-align: right;\n",
       "    }\n",
       "</style>\n",
       "<table border=\"1\" class=\"dataframe\">\n",
       "  <thead>\n",
       "    <tr style=\"text-align: right;\">\n",
       "      <th></th>\n",
       "      <th>id</th>\n",
       "      <th>scrape_id</th>\n",
       "      <th>host_id</th>\n",
       "      <th>host_listings_count</th>\n",
       "      <th>host_total_listings_count</th>\n",
       "      <th>latitude</th>\n",
       "      <th>longitude</th>\n",
       "      <th>accommodates</th>\n",
       "      <th>bathrooms</th>\n",
       "      <th>bedrooms</th>\n",
       "      <th>...</th>\n",
       "      <th>host_has_profile_pic_t</th>\n",
       "      <th>host_identity_verified_f</th>\n",
       "      <th>host_identity_verified_t</th>\n",
       "      <th>has_availability_f</th>\n",
       "      <th>has_availability_t</th>\n",
       "      <th>calendar_last_scraped_2021-12-04</th>\n",
       "      <th>calendar_last_scraped_2021-12-05</th>\n",
       "      <th>license_41662/AL</th>\n",
       "      <th>instant_bookable_f</th>\n",
       "      <th>instant_bookable_t</th>\n",
       "    </tr>\n",
       "  </thead>\n",
       "  <tbody>\n",
       "    <tr>\n",
       "      <th>id</th>\n",
       "      <td>1.00000</td>\n",
       "      <td>-0.0</td>\n",
       "      <td>0.58617</td>\n",
       "      <td>0.12986</td>\n",
       "      <td>0.12986</td>\n",
       "      <td>0.01000</td>\n",
       "      <td>0.08708</td>\n",
       "      <td>0.03540</td>\n",
       "      <td>NaN</td>\n",
       "      <td>0.04503</td>\n",
       "      <td>...</td>\n",
       "      <td>-0.05332</td>\n",
       "      <td>-0.04772</td>\n",
       "      <td>0.04828</td>\n",
       "      <td>-0.20421</td>\n",
       "      <td>0.20421</td>\n",
       "      <td>0.13123</td>\n",
       "      <td>-0.13123</td>\n",
       "      <td>-0.00341</td>\n",
       "      <td>-0.21433</td>\n",
       "      <td>0.21433</td>\n",
       "    </tr>\n",
       "    <tr>\n",
       "      <th>scrape_id</th>\n",
       "      <td>-0.00000</td>\n",
       "      <td>1.0</td>\n",
       "      <td>0.00000</td>\n",
       "      <td>-0.00000</td>\n",
       "      <td>-0.00000</td>\n",
       "      <td>0.00000</td>\n",
       "      <td>-0.00000</td>\n",
       "      <td>0.00000</td>\n",
       "      <td>NaN</td>\n",
       "      <td>0.00000</td>\n",
       "      <td>...</td>\n",
       "      <td>-0.00000</td>\n",
       "      <td>-0.00000</td>\n",
       "      <td>-0.00000</td>\n",
       "      <td>-0.00000</td>\n",
       "      <td>0.00000</td>\n",
       "      <td>0.00000</td>\n",
       "      <td>-0.00000</td>\n",
       "      <td>0.00000</td>\n",
       "      <td>0.00000</td>\n",
       "      <td>-0.00000</td>\n",
       "    </tr>\n",
       "    <tr>\n",
       "      <th>host_id</th>\n",
       "      <td>0.58617</td>\n",
       "      <td>0.0</td>\n",
       "      <td>1.00000</td>\n",
       "      <td>0.03189</td>\n",
       "      <td>0.03189</td>\n",
       "      <td>0.04148</td>\n",
       "      <td>0.11620</td>\n",
       "      <td>0.02723</td>\n",
       "      <td>NaN</td>\n",
       "      <td>0.02202</td>\n",
       "      <td>...</td>\n",
       "      <td>-0.10126</td>\n",
       "      <td>0.04272</td>\n",
       "      <td>-0.04233</td>\n",
       "      <td>-0.12285</td>\n",
       "      <td>0.12285</td>\n",
       "      <td>-0.02517</td>\n",
       "      <td>0.02517</td>\n",
       "      <td>0.00021</td>\n",
       "      <td>-0.20690</td>\n",
       "      <td>0.20690</td>\n",
       "    </tr>\n",
       "    <tr>\n",
       "      <th>host_listings_count</th>\n",
       "      <td>0.12986</td>\n",
       "      <td>-0.0</td>\n",
       "      <td>0.03189</td>\n",
       "      <td>1.00000</td>\n",
       "      <td>1.00000</td>\n",
       "      <td>0.03475</td>\n",
       "      <td>-0.08843</td>\n",
       "      <td>-0.02621</td>\n",
       "      <td>NaN</td>\n",
       "      <td>-0.01710</td>\n",
       "      <td>...</td>\n",
       "      <td>0.01166</td>\n",
       "      <td>-0.06684</td>\n",
       "      <td>0.06670</td>\n",
       "      <td>-0.03698</td>\n",
       "      <td>0.03698</td>\n",
       "      <td>-0.05499</td>\n",
       "      <td>0.05499</td>\n",
       "      <td>-0.00078</td>\n",
       "      <td>-0.12175</td>\n",
       "      <td>0.12175</td>\n",
       "    </tr>\n",
       "    <tr>\n",
       "      <th>host_total_listings_count</th>\n",
       "      <td>0.12986</td>\n",
       "      <td>-0.0</td>\n",
       "      <td>0.03189</td>\n",
       "      <td>1.00000</td>\n",
       "      <td>1.00000</td>\n",
       "      <td>0.03475</td>\n",
       "      <td>-0.08843</td>\n",
       "      <td>-0.02621</td>\n",
       "      <td>NaN</td>\n",
       "      <td>-0.01710</td>\n",
       "      <td>...</td>\n",
       "      <td>0.01166</td>\n",
       "      <td>-0.06684</td>\n",
       "      <td>0.06670</td>\n",
       "      <td>-0.03698</td>\n",
       "      <td>0.03698</td>\n",
       "      <td>-0.05499</td>\n",
       "      <td>0.05499</td>\n",
       "      <td>-0.00078</td>\n",
       "      <td>-0.12175</td>\n",
       "      <td>0.12175</td>\n",
       "    </tr>\n",
       "    <tr>\n",
       "      <th>...</th>\n",
       "      <td>...</td>\n",
       "      <td>...</td>\n",
       "      <td>...</td>\n",
       "      <td>...</td>\n",
       "      <td>...</td>\n",
       "      <td>...</td>\n",
       "      <td>...</td>\n",
       "      <td>...</td>\n",
       "      <td>...</td>\n",
       "      <td>...</td>\n",
       "      <td>...</td>\n",
       "      <td>...</td>\n",
       "      <td>...</td>\n",
       "      <td>...</td>\n",
       "      <td>...</td>\n",
       "      <td>...</td>\n",
       "      <td>...</td>\n",
       "      <td>...</td>\n",
       "      <td>...</td>\n",
       "      <td>...</td>\n",
       "      <td>...</td>\n",
       "    </tr>\n",
       "    <tr>\n",
       "      <th>calendar_last_scraped_2021-12-04</th>\n",
       "      <td>0.13123</td>\n",
       "      <td>0.0</td>\n",
       "      <td>-0.02517</td>\n",
       "      <td>-0.05499</td>\n",
       "      <td>-0.05499</td>\n",
       "      <td>-0.00987</td>\n",
       "      <td>-0.02439</td>\n",
       "      <td>-0.05411</td>\n",
       "      <td>NaN</td>\n",
       "      <td>-0.04749</td>\n",
       "      <td>...</td>\n",
       "      <td>0.01823</td>\n",
       "      <td>0.02351</td>\n",
       "      <td>-0.02314</td>\n",
       "      <td>0.05236</td>\n",
       "      <td>-0.05236</td>\n",
       "      <td>1.00000</td>\n",
       "      <td>-1.00000</td>\n",
       "      <td>-0.00229</td>\n",
       "      <td>-0.07444</td>\n",
       "      <td>0.07444</td>\n",
       "    </tr>\n",
       "    <tr>\n",
       "      <th>calendar_last_scraped_2021-12-05</th>\n",
       "      <td>-0.13123</td>\n",
       "      <td>-0.0</td>\n",
       "      <td>0.02517</td>\n",
       "      <td>0.05499</td>\n",
       "      <td>0.05499</td>\n",
       "      <td>0.00987</td>\n",
       "      <td>0.02439</td>\n",
       "      <td>0.05411</td>\n",
       "      <td>NaN</td>\n",
       "      <td>0.04749</td>\n",
       "      <td>...</td>\n",
       "      <td>-0.01823</td>\n",
       "      <td>-0.02351</td>\n",
       "      <td>0.02314</td>\n",
       "      <td>-0.05236</td>\n",
       "      <td>0.05236</td>\n",
       "      <td>-1.00000</td>\n",
       "      <td>1.00000</td>\n",
       "      <td>0.00229</td>\n",
       "      <td>0.07444</td>\n",
       "      <td>-0.07444</td>\n",
       "    </tr>\n",
       "    <tr>\n",
       "      <th>license_41662/AL</th>\n",
       "      <td>-0.00341</td>\n",
       "      <td>0.0</td>\n",
       "      <td>0.00021</td>\n",
       "      <td>-0.00078</td>\n",
       "      <td>-0.00078</td>\n",
       "      <td>0.00106</td>\n",
       "      <td>-0.00403</td>\n",
       "      <td>0.00604</td>\n",
       "      <td>NaN</td>\n",
       "      <td>0.01278</td>\n",
       "      <td>...</td>\n",
       "      <td>0.00044</td>\n",
       "      <td>0.01143</td>\n",
       "      <td>-0.01140</td>\n",
       "      <td>-0.00124</td>\n",
       "      <td>0.00124</td>\n",
       "      <td>-0.00229</td>\n",
       "      <td>0.00229</td>\n",
       "      <td>1.00000</td>\n",
       "      <td>-0.00835</td>\n",
       "      <td>0.00835</td>\n",
       "    </tr>\n",
       "    <tr>\n",
       "      <th>instant_bookable_f</th>\n",
       "      <td>-0.21433</td>\n",
       "      <td>0.0</td>\n",
       "      <td>-0.20690</td>\n",
       "      <td>-0.12175</td>\n",
       "      <td>-0.12175</td>\n",
       "      <td>-0.01875</td>\n",
       "      <td>-0.01483</td>\n",
       "      <td>-0.01468</td>\n",
       "      <td>NaN</td>\n",
       "      <td>0.02757</td>\n",
       "      <td>...</td>\n",
       "      <td>0.01775</td>\n",
       "      <td>-0.01166</td>\n",
       "      <td>0.01253</td>\n",
       "      <td>0.14808</td>\n",
       "      <td>-0.14808</td>\n",
       "      <td>-0.07444</td>\n",
       "      <td>0.07444</td>\n",
       "      <td>-0.00835</td>\n",
       "      <td>1.00000</td>\n",
       "      <td>-1.00000</td>\n",
       "    </tr>\n",
       "    <tr>\n",
       "      <th>instant_bookable_t</th>\n",
       "      <td>0.21433</td>\n",
       "      <td>-0.0</td>\n",
       "      <td>0.20690</td>\n",
       "      <td>0.12175</td>\n",
       "      <td>0.12175</td>\n",
       "      <td>0.01875</td>\n",
       "      <td>0.01483</td>\n",
       "      <td>0.01468</td>\n",
       "      <td>NaN</td>\n",
       "      <td>-0.02757</td>\n",
       "      <td>...</td>\n",
       "      <td>-0.01775</td>\n",
       "      <td>0.01166</td>\n",
       "      <td>-0.01253</td>\n",
       "      <td>-0.14808</td>\n",
       "      <td>0.14808</td>\n",
       "      <td>0.07444</td>\n",
       "      <td>-0.07444</td>\n",
       "      <td>0.00835</td>\n",
       "      <td>-1.00000</td>\n",
       "      <td>1.00000</td>\n",
       "    </tr>\n",
       "  </tbody>\n",
       "</table>\n",
       "<p>66 rows × 66 columns</p>\n",
       "</div>"
      ],
      "text/plain": [
       "                                       id  scrape_id  host_id  \\\n",
       "id                                1.00000       -0.0  0.58617   \n",
       "scrape_id                        -0.00000        1.0  0.00000   \n",
       "host_id                           0.58617        0.0  1.00000   \n",
       "host_listings_count               0.12986       -0.0  0.03189   \n",
       "host_total_listings_count         0.12986       -0.0  0.03189   \n",
       "...                                   ...        ...      ...   \n",
       "calendar_last_scraped_2021-12-04  0.13123        0.0 -0.02517   \n",
       "calendar_last_scraped_2021-12-05 -0.13123       -0.0  0.02517   \n",
       "license_41662/AL                 -0.00341        0.0  0.00021   \n",
       "instant_bookable_f               -0.21433        0.0 -0.20690   \n",
       "instant_bookable_t                0.21433       -0.0  0.20690   \n",
       "\n",
       "                                  host_listings_count  \\\n",
       "id                                            0.12986   \n",
       "scrape_id                                    -0.00000   \n",
       "host_id                                       0.03189   \n",
       "host_listings_count                           1.00000   \n",
       "host_total_listings_count                     1.00000   \n",
       "...                                               ...   \n",
       "calendar_last_scraped_2021-12-04             -0.05499   \n",
       "calendar_last_scraped_2021-12-05              0.05499   \n",
       "license_41662/AL                             -0.00078   \n",
       "instant_bookable_f                           -0.12175   \n",
       "instant_bookable_t                            0.12175   \n",
       "\n",
       "                                  host_total_listings_count  latitude  \\\n",
       "id                                                  0.12986   0.01000   \n",
       "scrape_id                                          -0.00000   0.00000   \n",
       "host_id                                             0.03189   0.04148   \n",
       "host_listings_count                                 1.00000   0.03475   \n",
       "host_total_listings_count                           1.00000   0.03475   \n",
       "...                                                     ...       ...   \n",
       "calendar_last_scraped_2021-12-04                   -0.05499  -0.00987   \n",
       "calendar_last_scraped_2021-12-05                    0.05499   0.00987   \n",
       "license_41662/AL                                   -0.00078   0.00106   \n",
       "instant_bookable_f                                 -0.12175  -0.01875   \n",
       "instant_bookable_t                                  0.12175   0.01875   \n",
       "\n",
       "                                  longitude  accommodates  bathrooms  \\\n",
       "id                                  0.08708       0.03540        NaN   \n",
       "scrape_id                          -0.00000       0.00000        NaN   \n",
       "host_id                             0.11620       0.02723        NaN   \n",
       "host_listings_count                -0.08843      -0.02621        NaN   \n",
       "host_total_listings_count          -0.08843      -0.02621        NaN   \n",
       "...                                     ...           ...        ...   \n",
       "calendar_last_scraped_2021-12-04   -0.02439      -0.05411        NaN   \n",
       "calendar_last_scraped_2021-12-05    0.02439       0.05411        NaN   \n",
       "license_41662/AL                   -0.00403       0.00604        NaN   \n",
       "instant_bookable_f                 -0.01483      -0.01468        NaN   \n",
       "instant_bookable_t                  0.01483       0.01468        NaN   \n",
       "\n",
       "                                  bedrooms  ...  host_has_profile_pic_t  \\\n",
       "id                                 0.04503  ...                -0.05332   \n",
       "scrape_id                          0.00000  ...                -0.00000   \n",
       "host_id                            0.02202  ...                -0.10126   \n",
       "host_listings_count               -0.01710  ...                 0.01166   \n",
       "host_total_listings_count         -0.01710  ...                 0.01166   \n",
       "...                                    ...  ...                     ...   \n",
       "calendar_last_scraped_2021-12-04  -0.04749  ...                 0.01823   \n",
       "calendar_last_scraped_2021-12-05   0.04749  ...                -0.01823   \n",
       "license_41662/AL                   0.01278  ...                 0.00044   \n",
       "instant_bookable_f                 0.02757  ...                 0.01775   \n",
       "instant_bookable_t                -0.02757  ...                -0.01775   \n",
       "\n",
       "                                  host_identity_verified_f  \\\n",
       "id                                                -0.04772   \n",
       "scrape_id                                         -0.00000   \n",
       "host_id                                            0.04272   \n",
       "host_listings_count                               -0.06684   \n",
       "host_total_listings_count                         -0.06684   \n",
       "...                                                    ...   \n",
       "calendar_last_scraped_2021-12-04                   0.02351   \n",
       "calendar_last_scraped_2021-12-05                  -0.02351   \n",
       "license_41662/AL                                   0.01143   \n",
       "instant_bookable_f                                -0.01166   \n",
       "instant_bookable_t                                 0.01166   \n",
       "\n",
       "                                  host_identity_verified_t  \\\n",
       "id                                                 0.04828   \n",
       "scrape_id                                         -0.00000   \n",
       "host_id                                           -0.04233   \n",
       "host_listings_count                                0.06670   \n",
       "host_total_listings_count                          0.06670   \n",
       "...                                                    ...   \n",
       "calendar_last_scraped_2021-12-04                  -0.02314   \n",
       "calendar_last_scraped_2021-12-05                   0.02314   \n",
       "license_41662/AL                                  -0.01140   \n",
       "instant_bookable_f                                 0.01253   \n",
       "instant_bookable_t                                -0.01253   \n",
       "\n",
       "                                  has_availability_f  has_availability_t  \\\n",
       "id                                          -0.20421             0.20421   \n",
       "scrape_id                                   -0.00000             0.00000   \n",
       "host_id                                     -0.12285             0.12285   \n",
       "host_listings_count                         -0.03698             0.03698   \n",
       "host_total_listings_count                   -0.03698             0.03698   \n",
       "...                                              ...                 ...   \n",
       "calendar_last_scraped_2021-12-04             0.05236            -0.05236   \n",
       "calendar_last_scraped_2021-12-05            -0.05236             0.05236   \n",
       "license_41662/AL                            -0.00124             0.00124   \n",
       "instant_bookable_f                           0.14808            -0.14808   \n",
       "instant_bookable_t                          -0.14808             0.14808   \n",
       "\n",
       "                                  calendar_last_scraped_2021-12-04  \\\n",
       "id                                                         0.13123   \n",
       "scrape_id                                                  0.00000   \n",
       "host_id                                                   -0.02517   \n",
       "host_listings_count                                       -0.05499   \n",
       "host_total_listings_count                                 -0.05499   \n",
       "...                                                            ...   \n",
       "calendar_last_scraped_2021-12-04                           1.00000   \n",
       "calendar_last_scraped_2021-12-05                          -1.00000   \n",
       "license_41662/AL                                          -0.00229   \n",
       "instant_bookable_f                                        -0.07444   \n",
       "instant_bookable_t                                         0.07444   \n",
       "\n",
       "                                  calendar_last_scraped_2021-12-05  \\\n",
       "id                                                        -0.13123   \n",
       "scrape_id                                                 -0.00000   \n",
       "host_id                                                    0.02517   \n",
       "host_listings_count                                        0.05499   \n",
       "host_total_listings_count                                  0.05499   \n",
       "...                                                            ...   \n",
       "calendar_last_scraped_2021-12-04                          -1.00000   \n",
       "calendar_last_scraped_2021-12-05                           1.00000   \n",
       "license_41662/AL                                           0.00229   \n",
       "instant_bookable_f                                         0.07444   \n",
       "instant_bookable_t                                        -0.07444   \n",
       "\n",
       "                                  license_41662/AL  instant_bookable_f  \\\n",
       "id                                        -0.00341            -0.21433   \n",
       "scrape_id                                  0.00000             0.00000   \n",
       "host_id                                    0.00021            -0.20690   \n",
       "host_listings_count                       -0.00078            -0.12175   \n",
       "host_total_listings_count                 -0.00078            -0.12175   \n",
       "...                                            ...                 ...   \n",
       "calendar_last_scraped_2021-12-04          -0.00229            -0.07444   \n",
       "calendar_last_scraped_2021-12-05           0.00229             0.07444   \n",
       "license_41662/AL                           1.00000            -0.00835   \n",
       "instant_bookable_f                        -0.00835             1.00000   \n",
       "instant_bookable_t                         0.00835            -1.00000   \n",
       "\n",
       "                                  instant_bookable_t  \n",
       "id                                           0.21433  \n",
       "scrape_id                                   -0.00000  \n",
       "host_id                                      0.20690  \n",
       "host_listings_count                          0.12175  \n",
       "host_total_listings_count                    0.12175  \n",
       "...                                              ...  \n",
       "calendar_last_scraped_2021-12-04             0.07444  \n",
       "calendar_last_scraped_2021-12-05            -0.07444  \n",
       "license_41662/AL                             0.00835  \n",
       "instant_bookable_f                          -1.00000  \n",
       "instant_bookable_t                           1.00000  \n",
       "\n",
       "[66 rows x 66 columns]"
      ]
     },
     "execution_count": 66,
     "metadata": {},
     "output_type": "execute_result"
    }
   ],
   "source": [
    "corr_matrix = round(df.corr(),5)\n",
    "corr_matrix"
   ]
  },
  {
   "cell_type": "markdown",
   "metadata": {},
   "source": [
    "The result is a computed *correlation matrix*. The values on the diagonal are all equal to 1 because they represent the correlations between each column with itself. The matrix is symmetrical with respect to the diagonal.<br>\n",
    "\n",
    "We only need to observe correlations of all features with the column `label_price` (as opposed to every possible pairwise correlation). Se let's query the `label_price` column of this matrix:\n",
    "\n",
    "**Task**: Extract the `label_price` column of the correlation matrix and save the results to the variable `corrs`."
   ]
  },
  {
   "cell_type": "code",
   "execution_count": 67,
   "metadata": {},
   "outputs": [
    {
     "data": {
      "text/plain": [
       "id                                  0.07907\n",
       "scrape_id                          -0.00000\n",
       "host_id                             0.04053\n",
       "host_listings_count                 0.13104\n",
       "host_total_listings_count           0.13104\n",
       "                                     ...   \n",
       "calendar_last_scraped_2021-12-04   -0.07174\n",
       "calendar_last_scraped_2021-12-05    0.07174\n",
       "license_41662/AL                   -0.00061\n",
       "instant_bookable_f                 -0.08581\n",
       "instant_bookable_t                  0.08581\n",
       "Name: label_price, Length: 66, dtype: float64"
      ]
     },
     "execution_count": 67,
     "metadata": {},
     "output_type": "execute_result"
    }
   ],
   "source": [
    "corrs = corr_matrix['label_price']\n",
    "corrs"
   ]
  },
  {
   "cell_type": "markdown",
   "metadata": {},
   "source": [
    "**Task**: Sort the values of the series we just obtained in the descending order and save the results to the variable `corrs_sorted`."
   ]
  },
  {
   "cell_type": "code",
   "execution_count": 68,
   "metadata": {},
   "outputs": [
    {
     "data": {
      "text/plain": [
       "label_price         1.00000\n",
       "price               0.71112\n",
       "accommodates        0.50062\n",
       "bedrooms            0.41996\n",
       "beds                0.37370\n",
       "                     ...   \n",
       "unavailable        -0.10279\n",
       "longitude          -0.20695\n",
       "bathrooms               NaN\n",
       "calendar_updated        NaN\n",
       "bathrooms_na            NaN\n",
       "Name: label_price, Length: 66, dtype: float64"
      ]
     },
     "execution_count": 68,
     "metadata": {},
     "output_type": "execute_result"
    }
   ],
   "source": [
    "corrs_sorted = corrs.sort_values(ascending=False)\n",
    "corrs_sorted"
   ]
  },
  {
   "cell_type": "markdown",
   "metadata": {},
   "source": [
    "**Task**: Use Pandas indexing to extract the column names for the top two correlation values and save the results to the Python list `top_two_corr`. Add the feature names to the list in the order in which they appear in the output above. <br> \n",
    "\n",
    "<b>Note</b>: Do not count the correlation of `label` column with itself, nor the `price` column -- which is the `label` column prior to outlier removal."
   ]
  },
  {
   "cell_type": "code",
   "execution_count": 73,
   "metadata": {},
   "outputs": [
    {
     "data": {
      "text/plain": [
       "['accommodates', 'bedrooms']"
      ]
     },
     "execution_count": 73,
     "metadata": {},
     "output_type": "execute_result"
    }
   ],
   "source": [
    "top_two_corr = corrs_sorted.index[2:4].tolist()\n",
    "top_two_corr"
   ]
  },
  {
   "cell_type": "markdown",
   "metadata": {},
   "source": [
    "#### Bivariate Plotting: Produce Plots for the Label and Its Top Correlates\n",
    "\n",
    "Let us visualize our data."
   ]
  },
  {
   "cell_type": "markdown",
   "metadata": {},
   "source": [
    "We will use the `pairplot()` function in `seaborn` to plot the relationships between the two features and the label."
   ]
  },
  {
   "cell_type": "markdown",
   "metadata": {},
   "source": [
    "**Task**: Create a DataFrame `df_corrs` that contains only three columns from DataFrame `df`: the label, and the two columns which correlate with it the most."
   ]
  },
  {
   "cell_type": "code",
   "execution_count": 74,
   "metadata": {
    "scrolled": true
   },
   "outputs": [
    {
     "data": {
      "text/html": [
       "<div>\n",
       "<style scoped>\n",
       "    .dataframe tbody tr th:only-of-type {\n",
       "        vertical-align: middle;\n",
       "    }\n",
       "\n",
       "    .dataframe tbody tr th {\n",
       "        vertical-align: top;\n",
       "    }\n",
       "\n",
       "    .dataframe thead th {\n",
       "        text-align: right;\n",
       "    }\n",
       "</style>\n",
       "<table border=\"1\" class=\"dataframe\">\n",
       "  <thead>\n",
       "    <tr style=\"text-align: right;\">\n",
       "      <th></th>\n",
       "      <th>accommodates</th>\n",
       "      <th>bedrooms</th>\n",
       "    </tr>\n",
       "  </thead>\n",
       "  <tbody>\n",
       "    <tr>\n",
       "      <th>0</th>\n",
       "      <td>1</td>\n",
       "      <td>1.323567</td>\n",
       "    </tr>\n",
       "    <tr>\n",
       "      <th>1</th>\n",
       "      <td>3</td>\n",
       "      <td>1.000000</td>\n",
       "    </tr>\n",
       "    <tr>\n",
       "      <th>2</th>\n",
       "      <td>2</td>\n",
       "      <td>1.000000</td>\n",
       "    </tr>\n",
       "    <tr>\n",
       "      <th>3</th>\n",
       "      <td>4</td>\n",
       "      <td>2.000000</td>\n",
       "    </tr>\n",
       "    <tr>\n",
       "      <th>4</th>\n",
       "      <td>2</td>\n",
       "      <td>1.000000</td>\n",
       "    </tr>\n",
       "    <tr>\n",
       "      <th>...</th>\n",
       "      <td>...</td>\n",
       "      <td>...</td>\n",
       "    </tr>\n",
       "    <tr>\n",
       "      <th>38272</th>\n",
       "      <td>2</td>\n",
       "      <td>1.000000</td>\n",
       "    </tr>\n",
       "    <tr>\n",
       "      <th>38273</th>\n",
       "      <td>2</td>\n",
       "      <td>1.000000</td>\n",
       "    </tr>\n",
       "    <tr>\n",
       "      <th>38274</th>\n",
       "      <td>2</td>\n",
       "      <td>1.000000</td>\n",
       "    </tr>\n",
       "    <tr>\n",
       "      <th>38275</th>\n",
       "      <td>2</td>\n",
       "      <td>1.000000</td>\n",
       "    </tr>\n",
       "    <tr>\n",
       "      <th>38276</th>\n",
       "      <td>14</td>\n",
       "      <td>6.000000</td>\n",
       "    </tr>\n",
       "  </tbody>\n",
       "</table>\n",
       "<p>38277 rows × 2 columns</p>\n",
       "</div>"
      ],
      "text/plain": [
       "       accommodates  bedrooms\n",
       "0                 1  1.323567\n",
       "1                 3  1.000000\n",
       "2                 2  1.000000\n",
       "3                 4  2.000000\n",
       "4                 2  1.000000\n",
       "...             ...       ...\n",
       "38272             2  1.000000\n",
       "38273             2  1.000000\n",
       "38274             2  1.000000\n",
       "38275             2  1.000000\n",
       "38276            14  6.000000\n",
       "\n",
       "[38277 rows x 2 columns]"
      ]
     },
     "execution_count": 74,
     "metadata": {},
     "output_type": "execute_result"
    }
   ],
   "source": [
    "df_corrs = df[top_two_corr]\n",
    "df_corrs"
   ]
  },
  {
   "cell_type": "markdown",
   "metadata": {},
   "source": [
    "**Task**: Create a `seaborn` pairplot of the data subset you just created. Specify the *kernel density estimator* as the kind of the plot, and make sure that you don't plot redundant plots.\n",
    "\n",
    "<i>Note</i>: It will take a few minutes to run and produce a plot."
   ]
  },
  {
   "cell_type": "code",
   "execution_count": 75,
   "metadata": {},
   "outputs": [
    {
     "data": {
      "image/png": "[encoded data removed]",
      "text/plain": [
       "<Figure size 360x360 with 5 Axes>"
      ]
     },
     "metadata": {
      "needs_background": "light"
     },
     "output_type": "display_data"
    }
   ],
   "source": [
    "# YOUR CODE HERE\n",
    "sns.pairplot(df_corrs, kind=\"kde\", diag_kind=\"kde\", corner=True)\n",
    "plt.show()"
   ]
  },
  {
   "cell_type": "markdown",
   "metadata": {},
   "source": [
    "## Part 5: Analysis\n",
    "\n",
    "1. Think about the possible interpretation of the plot. Recall that the label is the listing price. <br> How would you explain the relationship between the label and the two features? Is there a slight tilt to the points cluster, as the price goes up?<br>\n",
    "2. Are the top two correlated features strongly or weakly correlated with the label? Are they features that should be used for our predictive machine learning problem?\n",
    "3. Inspect your data matrix. It has a few features that contain unstructured text, meaning text data that is neither numerical nor categorical. List some features that contain unstructured text that you think are valuable for our predictive machine learning problem. Are there other remaining features that you think need to be prepared for the modeling phase? Do you have any suggestions on how to prepare these features?\n",
    "\n",
    "Record your findings in the cell below."
   ]
  },
  {
   "cell_type": "markdown",
   "metadata": {},
   "source": [
    "We see that as the accomodates increases for a lodging, the number of bedrooms tends to increase as well. This makes sense as the more people an Airbnb says it can accomodate, the more bedrooms it should have to accomodate those people. There are some clusters as most Airbnbs will have less than 2.5 bedrooms, which can accomodate less than 5 people, but there are some that will accomodate more which will be directly associated with them having more bedrooms.\n",
    "In general, it looks like it's a lot more common for Airbnbs to have fewer bedrooms and fewer accomodates than more, which makes sense as the typical travel group size is less than 5 (considering families and couples). They are mildly correlated with the label, and are generally good features to be used for our predictive machine learning problem. Logically, it also makes sense that the more the people, the higher the price as you would expect more people to be contributing to the cost and payment. Some features with unstructured text that may be valuable include the neighborhood overview and description. I think the environment of a lodging is very important when families decide where to stay, especially for lengthier stays. We could try one-hot encoding with these features, where we give it a number based on how likely they are to positively influence the label (like if the neighborhood overview says that a lodging is in a really expensive, well off, safe part of the city, then we can expect the price to be higher.)"
   ]
  }
 ],
 "metadata": {
  "kernelspec": {
   "display_name": "Python 3",
   "language": "python",
   "name": "python3"
  },
  "language_info": {
   "codemirror_mode": {
    "name": "ipython",
    "version": 3
   },
   "file_extension": ".py",
   "mimetype": "text/x-python",
   "name": "python",
   "nbconvert_exporter": "python",
   "pygments_lexer": "ipython3",
   "version": "3.6.9"
  },
  "toc": {
   "base_numbering": 1,
   "nav_menu": {},
   "number_sections": false,
   "sideBar": true,
   "skip_h1_title": false,
   "title_cell": "Table of Contents",
   "title_sidebar": "Contents",
   "toc_cell": false,
   "toc_position": {},
   "toc_section_display": true,
   "toc_window_display": false
  },
  "varInspector": {
   "cols": {
    "lenName": 16,
    "lenType": 16,
    "lenVar": 40
   },
   "kernels_config": {
    "python": {
     "delete_cmd_postfix": "",
     "delete_cmd_prefix": "del ",
     "library": "var_list.py",
     "varRefreshCmd": "print(var_dic_list())"
    },
    "r": {
     "delete_cmd_postfix": ") ",
     "delete_cmd_prefix": "rm(",
     "library": "var_list.r",
     "varRefreshCmd": "cat(var_dic_list()) "
    }
   },
   "types_to_exclude": [
    "module",
    "function",
    "builtin_function_or_method",
    "instance",
    "_Feature"
   ],
   "window_display": false
  }
 },
 "nbformat": 4,
 "nbformat_minor": 2
}
