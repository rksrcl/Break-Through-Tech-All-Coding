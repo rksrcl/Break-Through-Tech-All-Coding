{
 "cells": [
  {
   "cell_type": "markdown",
   "metadata": {},
   "source": [
    "# Assignment 7: Implement a Neural Network Using Keras"
   ]
  },
  {
   "cell_type": "code",
   "execution_count": 1,
   "metadata": {},
   "outputs": [],
   "source": [
    "import pandas as pd\n",
    "import numpy as np\n",
    "import os\n",
    "os.environ[\"TF_CPP_MIN_LOG_LEVEL\"] = \"2\" # suppress info and warning messages\n",
    "import matplotlib.pyplot as plt\n",
    "import seaborn as sns\n",
    "from sklearn.model_selection import train_test_split\n",
    "from sklearn.metrics import confusion_matrix\n",
    "import tensorflow.keras as keras\n",
    "import time"
   ]
  },
  {
   "cell_type": "markdown",
   "metadata": {},
   "source": [
    "In this assignment, you will implement a feedforward neural network using Keras for a binary classification problem. You will complete the following tasks:\n",
    "    \n",
    "1. Build your DataFrame and define your ML problem:\n",
    "    * Load the Airbnb \"listings\" data set\n",
    "    * Define the label - what are you predicting?\n",
    "    * Identify the features\n",
    "2. Prepare your data so that it is ready for modeling.\n",
    "3. Create labeled examples from the data set.\n",
    "4. Split the data into training and test data sets.\n",
    "5. Construct a neural network.\n",
    "6. Train the neural network.\n",
    "7. Evaluate the neural network model's performance on the training, validation and test data.\n",
    "8. Experiment with ways to improve the model's performance.\n",
    "\n",
    "For this assignment, use the demo <i>Implementing a Neural Network in Keras</i> that is contained in this unit as a reference.\n",
    "\n",
    "**<font color='red'>Note: some of the code cells in this notebook may take a while to run</font>**"
   ]
  },
  {
   "cell_type": "markdown",
   "metadata": {},
   "source": [
    "## Part 1. Build Your DataFrame and Define Your ML Problem\n",
    "\n",
    "#### Load a Data Set and Save it as a Pandas DataFrame\n",
    "\n",
    "We will work with the data set ``airbnbData_train``. \n",
    "\n",
    "<b>Task</b>: In the code cell below, use the same method you have been using to load the data using `pd.read_csv()` and save it to DataFrame `df`.\n",
    "\n",
    "You will be working with the file named \"airbnbData_train.csv\" that is located in a folder named \"data_NN\"."
   ]
  },
  {
   "cell_type": "code",
   "execution_count": 2,
   "metadata": {},
   "outputs": [],
   "source": [
    "# YOUR CODE HERE\n",
    "filename = os.path.join(os.getcwd(), \"data_regressors\", \"airbnbData_train.csv\")\n",
    "df = pd.read_csv(filename)"
   ]
  },
  {
   "cell_type": "markdown",
   "metadata": {},
   "source": [
    "#### Define the Label\n",
    "\n",
    "Your goal is to train a machine learning model that predicts whether an Airbnb host is a 'super host'. This is an example of supervised learning and is a binary classification problem. In our dataset, our label will be the `host_is_superhost` column and the label will either contain the value `True` or `False`.\n",
    "\n",
    "#### Identify Features\n",
    "\n",
    "Our features will be all of the remaining columns in the dataset."
   ]
  },
  {
   "cell_type": "markdown",
   "metadata": {},
   "source": [
    "## Part 2. Prepare Your Data\n",
    "\n",
    "Many data preparation techniques have already been performed and the data is almost ready for modeling; the data set has one-hot encoded categorical variables, scaled numerical values, and imputed missing values. However, the data set has a few features that have boolean values. When working with Keras, features should have floating point values.\n",
    "\n",
    "Let's convert these features from booleans to floats.\n",
    "\n",
    "<b>Task:</b> Using the Pandas `astype()` method, convert any boolean columns in DataFrame `df` to floating point columns. Use the online [documentation](https://pandas.pydata.org/docs/reference/api/pandas.DataFrame.astype.html) as a reference.  \n",
    "\n",
    "Note that there are a few different ways that you can accomplish this task. You can convert one boolean column at a time, or you can use the Pandas `select_dtypes()` method to find and return all boolean columns in DataFrame `df` and then convert the columns as a group. Use the online [documentation]( https://pandas.pydata.org/docs/reference/api/pandas.DataFrame.select_dtypes.html) as a reference. \n"
   ]
  },
  {
   "cell_type": "code",
   "execution_count": 3,
   "metadata": {},
   "outputs": [],
   "source": [
    "# YOUR CODE HERE\n",
    "bool_columns = df.select_dtypes(include='bool')\n",
    "df[bool_columns.columns] = bool_columns.astype(float)"
   ]
  },
  {
   "cell_type": "markdown",
   "metadata": {},
   "source": [
    "Let's inspect the columns after the conversion. "
   ]
  },
  {
   "cell_type": "code",
   "execution_count": 4,
   "metadata": {},
   "outputs": [
    {
     "data": {
      "text/html": [
       "<div>\n",
       "<style scoped>\n",
       "    .dataframe tbody tr th:only-of-type {\n",
       "        vertical-align: middle;\n",
       "    }\n",
       "\n",
       "    .dataframe tbody tr th {\n",
       "        vertical-align: top;\n",
       "    }\n",
       "\n",
       "    .dataframe thead th {\n",
       "        text-align: right;\n",
       "    }\n",
       "</style>\n",
       "<table border=\"1\" class=\"dataframe\">\n",
       "  <thead>\n",
       "    <tr style=\"text-align: right;\">\n",
       "      <th></th>\n",
       "      <th>host_is_superhost</th>\n",
       "      <th>host_has_profile_pic</th>\n",
       "      <th>host_identity_verified</th>\n",
       "      <th>has_availability</th>\n",
       "      <th>instant_bookable</th>\n",
       "      <th>host_response_rate</th>\n",
       "      <th>host_acceptance_rate</th>\n",
       "      <th>host_listings_count</th>\n",
       "      <th>host_total_listings_count</th>\n",
       "      <th>accommodates</th>\n",
       "      <th>...</th>\n",
       "      <th>n_host_verifications</th>\n",
       "      <th>neighbourhood_group_cleansed_Bronx</th>\n",
       "      <th>neighbourhood_group_cleansed_Brooklyn</th>\n",
       "      <th>neighbourhood_group_cleansed_Manhattan</th>\n",
       "      <th>neighbourhood_group_cleansed_Queens</th>\n",
       "      <th>neighbourhood_group_cleansed_Staten Island</th>\n",
       "      <th>room_type_Entire home/apt</th>\n",
       "      <th>room_type_Hotel room</th>\n",
       "      <th>room_type_Private room</th>\n",
       "      <th>room_type_Shared room</th>\n",
       "    </tr>\n",
       "  </thead>\n",
       "  <tbody>\n",
       "    <tr>\n",
       "      <th>0</th>\n",
       "      <td>0.0</td>\n",
       "      <td>1.0</td>\n",
       "      <td>1.0</td>\n",
       "      <td>1.0</td>\n",
       "      <td>0.0</td>\n",
       "      <td>-0.578829</td>\n",
       "      <td>-2.845589</td>\n",
       "      <td>-0.054298</td>\n",
       "      <td>-0.054298</td>\n",
       "      <td>-1.007673</td>\n",
       "      <td>...</td>\n",
       "      <td>1.888373</td>\n",
       "      <td>0.0</td>\n",
       "      <td>0.0</td>\n",
       "      <td>1.0</td>\n",
       "      <td>0.0</td>\n",
       "      <td>0.0</td>\n",
       "      <td>1.0</td>\n",
       "      <td>0.0</td>\n",
       "      <td>0.0</td>\n",
       "      <td>0.0</td>\n",
       "    </tr>\n",
       "    <tr>\n",
       "      <th>1</th>\n",
       "      <td>0.0</td>\n",
       "      <td>1.0</td>\n",
       "      <td>1.0</td>\n",
       "      <td>1.0</td>\n",
       "      <td>0.0</td>\n",
       "      <td>-4.685756</td>\n",
       "      <td>-0.430024</td>\n",
       "      <td>-0.112284</td>\n",
       "      <td>-0.112284</td>\n",
       "      <td>0.067470</td>\n",
       "      <td>...</td>\n",
       "      <td>0.409419</td>\n",
       "      <td>0.0</td>\n",
       "      <td>1.0</td>\n",
       "      <td>0.0</td>\n",
       "      <td>0.0</td>\n",
       "      <td>0.0</td>\n",
       "      <td>1.0</td>\n",
       "      <td>0.0</td>\n",
       "      <td>0.0</td>\n",
       "      <td>0.0</td>\n",
       "    </tr>\n",
       "    <tr>\n",
       "      <th>2</th>\n",
       "      <td>0.0</td>\n",
       "      <td>1.0</td>\n",
       "      <td>1.0</td>\n",
       "      <td>1.0</td>\n",
       "      <td>0.0</td>\n",
       "      <td>0.578052</td>\n",
       "      <td>-2.473964</td>\n",
       "      <td>-0.112284</td>\n",
       "      <td>-0.112284</td>\n",
       "      <td>0.605041</td>\n",
       "      <td>...</td>\n",
       "      <td>-1.069535</td>\n",
       "      <td>0.0</td>\n",
       "      <td>1.0</td>\n",
       "      <td>0.0</td>\n",
       "      <td>0.0</td>\n",
       "      <td>0.0</td>\n",
       "      <td>1.0</td>\n",
       "      <td>0.0</td>\n",
       "      <td>0.0</td>\n",
       "      <td>0.0</td>\n",
       "    </tr>\n",
       "    <tr>\n",
       "      <th>3</th>\n",
       "      <td>0.0</td>\n",
       "      <td>1.0</td>\n",
       "      <td>0.0</td>\n",
       "      <td>1.0</td>\n",
       "      <td>0.0</td>\n",
       "      <td>0.578052</td>\n",
       "      <td>1.010024</td>\n",
       "      <td>-0.112284</td>\n",
       "      <td>-0.112284</td>\n",
       "      <td>-0.470102</td>\n",
       "      <td>...</td>\n",
       "      <td>-0.576550</td>\n",
       "      <td>0.0</td>\n",
       "      <td>0.0</td>\n",
       "      <td>1.0</td>\n",
       "      <td>0.0</td>\n",
       "      <td>0.0</td>\n",
       "      <td>0.0</td>\n",
       "      <td>0.0</td>\n",
       "      <td>1.0</td>\n",
       "      <td>0.0</td>\n",
       "    </tr>\n",
       "    <tr>\n",
       "      <th>4</th>\n",
       "      <td>0.0</td>\n",
       "      <td>1.0</td>\n",
       "      <td>1.0</td>\n",
       "      <td>1.0</td>\n",
       "      <td>0.0</td>\n",
       "      <td>-0.054002</td>\n",
       "      <td>-0.066308</td>\n",
       "      <td>-0.112284</td>\n",
       "      <td>-0.112284</td>\n",
       "      <td>-1.007673</td>\n",
       "      <td>...</td>\n",
       "      <td>0.902404</td>\n",
       "      <td>0.0</td>\n",
       "      <td>0.0</td>\n",
       "      <td>1.0</td>\n",
       "      <td>0.0</td>\n",
       "      <td>0.0</td>\n",
       "      <td>0.0</td>\n",
       "      <td>0.0</td>\n",
       "      <td>1.0</td>\n",
       "      <td>0.0</td>\n",
       "    </tr>\n",
       "  </tbody>\n",
       "</table>\n",
       "<p>5 rows × 50 columns</p>\n",
       "</div>"
      ],
      "text/plain": [
       "   host_is_superhost  host_has_profile_pic  host_identity_verified  \\\n",
       "0                0.0                   1.0                     1.0   \n",
       "1                0.0                   1.0                     1.0   \n",
       "2                0.0                   1.0                     1.0   \n",
       "3                0.0                   1.0                     0.0   \n",
       "4                0.0                   1.0                     1.0   \n",
       "\n",
       "   has_availability  instant_bookable  host_response_rate  \\\n",
       "0               1.0               0.0           -0.578829   \n",
       "1               1.0               0.0           -4.685756   \n",
       "2               1.0               0.0            0.578052   \n",
       "3               1.0               0.0            0.578052   \n",
       "4               1.0               0.0           -0.054002   \n",
       "\n",
       "   host_acceptance_rate  host_listings_count  host_total_listings_count  \\\n",
       "0             -2.845589            -0.054298                  -0.054298   \n",
       "1             -0.430024            -0.112284                  -0.112284   \n",
       "2             -2.473964            -0.112284                  -0.112284   \n",
       "3              1.010024            -0.112284                  -0.112284   \n",
       "4             -0.066308            -0.112284                  -0.112284   \n",
       "\n",
       "   accommodates  ...  n_host_verifications  \\\n",
       "0     -1.007673  ...              1.888373   \n",
       "1      0.067470  ...              0.409419   \n",
       "2      0.605041  ...             -1.069535   \n",
       "3     -0.470102  ...             -0.576550   \n",
       "4     -1.007673  ...              0.902404   \n",
       "\n",
       "   neighbourhood_group_cleansed_Bronx  neighbourhood_group_cleansed_Brooklyn  \\\n",
       "0                                 0.0                                    0.0   \n",
       "1                                 0.0                                    1.0   \n",
       "2                                 0.0                                    1.0   \n",
       "3                                 0.0                                    0.0   \n",
       "4                                 0.0                                    0.0   \n",
       "\n",
       "   neighbourhood_group_cleansed_Manhattan  \\\n",
       "0                                     1.0   \n",
       "1                                     0.0   \n",
       "2                                     0.0   \n",
       "3                                     1.0   \n",
       "4                                     1.0   \n",
       "\n",
       "   neighbourhood_group_cleansed_Queens  \\\n",
       "0                                  0.0   \n",
       "1                                  0.0   \n",
       "2                                  0.0   \n",
       "3                                  0.0   \n",
       "4                                  0.0   \n",
       "\n",
       "   neighbourhood_group_cleansed_Staten Island  room_type_Entire home/apt  \\\n",
       "0                                         0.0                        1.0   \n",
       "1                                         0.0                        1.0   \n",
       "2                                         0.0                        1.0   \n",
       "3                                         0.0                        0.0   \n",
       "4                                         0.0                        0.0   \n",
       "\n",
       "   room_type_Hotel room  room_type_Private room  room_type_Shared room  \n",
       "0                   0.0                     0.0                    0.0  \n",
       "1                   0.0                     0.0                    0.0  \n",
       "2                   0.0                     0.0                    0.0  \n",
       "3                   0.0                     1.0                    0.0  \n",
       "4                   0.0                     1.0                    0.0  \n",
       "\n",
       "[5 rows x 50 columns]"
      ]
     },
     "execution_count": 4,
     "metadata": {},
     "output_type": "execute_result"
    }
   ],
   "source": [
    "df.head()"
   ]
  },
  {
   "cell_type": "markdown",
   "metadata": {},
   "source": [
    "## Part 3. Create Labeled Examples from the Data Set \n",
    "\n",
    "<b>Task</b>: In the code cell below, create labeled examples from DataFrame `df`."
   ]
  },
  {
   "cell_type": "code",
   "execution_count": 5,
   "metadata": {},
   "outputs": [],
   "source": [
    "# YOUR CODE HERE\n",
    "y = df['host_is_superhost']\n",
    "X = df.drop(columns=['host_is_superhost'])"
   ]
  },
  {
   "cell_type": "markdown",
   "metadata": {},
   "source": [
    "## Part 4. Create Training and Test Data Sets\n",
    "\n",
    "<b>Task</b>: In the code cell below, create training and test sets out of the labeled examples. Create a test set that is 25 percent of the size of the data set. Save the results to variables `X_train, X_test, y_train, y_test`.\n"
   ]
  },
  {
   "cell_type": "code",
   "execution_count": 6,
   "metadata": {},
   "outputs": [],
   "source": [
    "# YOUR CODE HERE\n",
    "X_train, X_test, y_train, y_test = train_test_split(X, y, test_size=0.25)"
   ]
  },
  {
   "cell_type": "code",
   "execution_count": 7,
   "metadata": {},
   "outputs": [
    {
     "data": {
      "text/plain": [
       "(21016, 49)"
      ]
     },
     "execution_count": 7,
     "metadata": {},
     "output_type": "execute_result"
    }
   ],
   "source": [
    "X_train.shape"
   ]
  },
  {
   "cell_type": "markdown",
   "metadata": {},
   "source": [
    "## Part 5. Construct the Neural Network\n"
   ]
  },
  {
   "cell_type": "markdown",
   "metadata": {},
   "source": [
    "### Step 1.  Define Model Structure\n",
    "\n",
    "Next we will create our neural network structure. We will create an input layer, three hidden layers and an output layer:\n",
    "\n",
    "* <b>Input layer</b>: The input layer will have the input shape corresponding to the number of features. \n",
    "* <b>Hidden layers</b>: We will create three hidden layers of widths (number of nodes) 64, 32, and 16. They will utilize the ReLU activation function. \n",
    "* <b>Output layer</b>: The output layer will have a width of 1. The output layer will utilize the sigmoid activation function. Since we are working with binary classification, we will be using the sigmoid activation function to map the output to a probability between 0.0 and 1.0. We can later set a threshold and assume that the prediction is class 1 if the probability is larger than or equal to our threshold, or class 0 if it is lower than our threshold.\n",
    "\n",
    "To construct the neural network model using Keras, we will do the following:\n",
    "* We will use the Keras `Sequential` class to group a stack of layers. This will be our neural network model object. For more information, consult the Keras online [documentation](https://keras.io/api/models/sequential/#sequential-class).\n",
    "* We will use the `InputLayer` class to create the input layer. For more information, consult  the Keras online [documentation](https://www.tensorflow.org/api_docs/python/tf/keras/layers/InputLayer).\n",
    "* We will use the `Dense` class to create each hidden layer and the output layer. For more information, consult the Keras online [documentation](https://keras.io/api/layers/core_layers/dense/).\n",
    "* We will add each layer to the neural network model object.\n",
    "\n",
    "\n",
    "<b>Task:</b> Follow these steps to complete the code in the cell below:\n",
    "\n",
    "1. Create the neural network model object. \n",
    "    * Use ``keras.Sequential() `` to create a model object, and assign the result to the variable ```nn_model```.\n",
    "    \n",
    "    \n",
    "2. Create the input layer: \n",
    "    * Call `keras.layers.InputLayer()` with the argument `input_shape` to specify the dimensions of the input. In this case, the dimensions will be the number of features (coumns) in `X_train`. Assign the number of features to the argument `input_shape`.\n",
    "    * Assign the results to the variable `input_layer`.\n",
    "    * Use `nn_model.add(input_layer)` to add the layer `input_layer` to the neural network model object.\n",
    "\n",
    "\n",
    "3. Create the first hidden layer:\n",
    "    * Call `keras.layers.Dense()` with the arguments `units=64` and `activation='relu'`. \n",
    "    * Assign the results to the variable `hidden_layer_1`.\n",
    "    * Use `nn_model.add(hidden_layer_1)` to add the layer `hidden_layer_1` to the neural network model object.\n",
    "\n",
    "\n",
    "4. Create the second hidden layer using the same approach that you used to create the first hidden layer, specifying 32 units and the `relu` activation function. \n",
    "    * Assign the results to the variable `hidden_layer_2`.\n",
    "    * Add the layer to the neural network model object.\n",
    "    \n",
    "    \n",
    "5. Create the third hidden layer using the same approach that you used to create the first two hidden layers, specifying 16 units and the `relu` activation function. \n",
    "    * Assign the results to the variable `hidden_layer_3`.\n",
    "    * Add the layer to the neural network model object.\n",
    "\n",
    "\n",
    "6. Create the output layer using the same approach that you used to create the hidden layers, specifying 1 unit and the `sigmoid` activation function. \n",
    "   * Assign the results to the variable `output_layer`.\n",
    "   * Add the layer to the neural network model object.\n",
    "   "
   ]
  },
  {
   "cell_type": "code",
   "execution_count": 8,
   "metadata": {},
   "outputs": [
    {
     "name": "stdout",
     "output_type": "stream",
     "text": [
      "Model: \"sequential\"\n",
      "_________________________________________________________________\n",
      "Layer (type)                 Output Shape              Param #   \n",
      "=================================================================\n",
      "dense (Dense)                (None, 64)                3200      \n",
      "_________________________________________________________________\n",
      "dense_1 (Dense)              (None, 32)                2080      \n",
      "_________________________________________________________________\n",
      "dense_2 (Dense)              (None, 16)                528       \n",
      "_________________________________________________________________\n",
      "dense_3 (Dense)              (None, 1)                 17        \n",
      "=================================================================\n",
      "Total params: 5,825\n",
      "Trainable params: 5,825\n",
      "Non-trainable params: 0\n",
      "_________________________________________________________________\n"
     ]
    }
   ],
   "source": [
    "# 1. Create model object:\n",
    "nn_model = keras.Sequential()\n",
    "\n",
    "\n",
    "# 2. Create the input layer and add it to the model object: \n",
    "# Create input layer:\n",
    "input_shape = (X_train.shape[1])\n",
    "input_layer = keras.layers.InputLayer(input_shape=input_shape)\n",
    "# Add input_layer to the model object:\n",
    "# YOUR CODE HERE\n",
    "nn_model.add(input_layer)\n",
    "\n",
    "# 3. Create the first hidden layer and add it to the model object:\n",
    "# Create hidden layer:\n",
    "hidden_layer_1 = keras.layers.Dense(units=64, activation='relu')\n",
    "# Add hidden_layer_1 to the model object:\n",
    "# YOUR CODE HERE\n",
    "nn_model.add(hidden_layer_1)\n",
    "\n",
    "\n",
    "\n",
    "# 4. Create the second hidden layer and add it to the model object:\n",
    "# Create hidden layer:\n",
    "hidden_layer_2 = keras.layers.Dense(units=32, activation='relu')\n",
    "# Add hidden_layer_2 to the model object:\n",
    "# YOUR CODE HERE\n",
    "nn_model.add(hidden_layer_2)\n",
    "\n",
    "\n",
    "# 5. Create the third hidden layer and add it to the model object:\n",
    "# Create hidden layer:\n",
    "hidden_layer_3 = keras.layers.Dense(units=16, activation='relu')\n",
    "# Add hidden_layer_3 to the model object:\n",
    "# YOUR CODE HERE\n",
    "nn_model.add(hidden_layer_3)\n",
    "\n",
    "# 6. Create the output layer and add it to the model object:\n",
    "# Create output layer:\n",
    "output_layer = keras.layers.Dense(units=1, activation='relu')\n",
    "# Add output_layer to the model object:\n",
    "# YOUR CODE HERE\n",
    "nn_model.add(output_layer)\n",
    "\n",
    "# Print summary of neural network model structure\n",
    "nn_model.summary()"
   ]
  },
  {
   "cell_type": "markdown",
   "metadata": {},
   "source": [
    "### Step 2. Define the Optimization Function\n",
    "\n",
    "<b>Task:</b> In the code cell below, create a stochastic gradient descent optimizer using  `keras.optimizers.SGD()`. Specify a learning rate of 0.1 using the `learning_rate` parameter. Assign the result to the variable`sgd_optimizer`."
   ]
  },
  {
   "cell_type": "code",
   "execution_count": 9,
   "metadata": {},
   "outputs": [],
   "source": [
    "sgd_optimizer = keras.optimizers.SGD(learning_rate=0.01)"
   ]
  },
  {
   "cell_type": "markdown",
   "metadata": {},
   "source": [
    "### Step 3. Define the Loss Function\n",
    "\n",
    "<b>Task:</b> In the code cell below, create a binary cross entropy loss function using `keras.losses.BinaryCrossentropy()`. Use  the parameter `from_logits=False`. Assign the result to the variable  `loss_fn`."
   ]
  },
  {
   "cell_type": "code",
   "execution_count": 10,
   "metadata": {},
   "outputs": [],
   "source": [
    "loss_fn = keras.losses.BinaryCrossentropy(from_logits=False)"
   ]
  },
  {
   "cell_type": "markdown",
   "metadata": {},
   "source": [
    "### Step 4. Compile the Model\n",
    "\n",
    "<b>Task:</b> In the code cell below, package the network architecture with the optimizer and the loss function using the `compile()` method. \n",
    "\n",
    "\n",
    "You will specify the optimizer, loss function and accuracy evaluation metric. Call the `nn_model.compile()` method with the following arguments:\n",
    "* Use the `optimizer` parameter and assign it your optimizer variable:`optimizer=sgd_optimizer`\n",
    "* Use the `loss` parameter and assign it your loss function variable: `loss=loss_fn`\n",
    "* Use the `metrics` parameter and assign it the `accuracy` evaluation metric: `metrics=['accuracy']`\n",
    "   "
   ]
  },
  {
   "cell_type": "code",
   "execution_count": 11,
   "metadata": {},
   "outputs": [],
   "source": [
    "# YOUR CODE HERE\n",
    "nn_model.compile(optimizer=sgd_optimizer, loss=loss_fn, metrics=['accuracy'])"
   ]
  },
  {
   "cell_type": "markdown",
   "metadata": {},
   "source": [
    "## Part 6. Fit the Model to the Training Data"
   ]
  },
  {
   "cell_type": "markdown",
   "metadata": {},
   "source": [
    "We will define our own callback class to output information from our model while it is training. Make sure you execute the code cell below so that it can be used in subsequent cells."
   ]
  },
  {
   "cell_type": "code",
   "execution_count": 12,
   "metadata": {},
   "outputs": [],
   "source": [
    "class ProgBarLoggerNEpochs(keras.callbacks.Callback):\n",
    "    \n",
    "    def __init__(self, num_epochs: int, every_n: int = 50):\n",
    "        self.num_epochs = num_epochs\n",
    "        self.every_n = every_n\n",
    "    \n",
    "    def on_epoch_end(self, epoch, logs=None):\n",
    "        if (epoch + 1) % self.every_n == 0:\n",
    "            s = 'Epoch [{}/ {}]'.format(epoch + 1, self.num_epochs)\n",
    "            logs_s = ['{}: {:.4f}'.format(k.capitalize(), v)\n",
    "                      for k, v in logs.items()]\n",
    "            s_list = [s] + logs_s\n",
    "            print(', '.join(s_list))\n"
   ]
  },
  {
   "cell_type": "markdown",
   "metadata": {},
   "source": [
    "<b>Task:</b> In the code cell below, fit the neural network model to the training data.\n",
    "\n",
    "1. Call `nn_model.fit()` with the training data `X_train` and `y_train` as arguments. \n",
    "\n",
    "2. In addition, specify the following parameters:\n",
    "\n",
    "    * Use the `epochs` parameter and assign it the variable to `epochs`: `epochs=num_epochs`\n",
    "    * Use the `verbose` parameter and assign it the value of  0: `verbose=0`\n",
    "    * Use the `callbacks` parameter and assign it a list containing our logger function: \n",
    "    `callbacks=[ProgBarLoggerNEpochs(num_epochs_M, every_n=5)]`  \n",
    "    * We will use a portion of our training data to serve as validation data. Use the  `validation_split` parameter and assign it the value `0.2`\n",
    "    \n",
    "3. Save the results to the variable `history`. \n",
    "\n",
    "<b>Note</b>: This may take a while to run."
   ]
  },
  {
   "cell_type": "code",
   "execution_count": 13,
   "metadata": {},
   "outputs": [
    {
     "name": "stdout",
     "output_type": "stream",
     "text": [
      "Epoch [5/ 100], Loss: 11.5567, Accuracy: 0.2421, Val_loss: 11.3100, Val_accuracy: 0.2583\n",
      "Epoch [10/ 100], Loss: 11.5567, Accuracy: 0.2421, Val_loss: 11.3100, Val_accuracy: 0.2583\n",
      "Epoch [15/ 100], Loss: 11.5567, Accuracy: 0.2421, Val_loss: 11.3100, Val_accuracy: 0.2583\n",
      "Epoch [20/ 100], Loss: 11.5567, Accuracy: 0.2421, Val_loss: 11.3100, Val_accuracy: 0.2583\n",
      "Epoch [25/ 100], Loss: 11.5567, Accuracy: 0.2421, Val_loss: 11.3100, Val_accuracy: 0.2583\n",
      "Epoch [30/ 100], Loss: 11.5567, Accuracy: 0.2421, Val_loss: 11.3100, Val_accuracy: 0.2583\n",
      "Epoch [35/ 100], Loss: 11.5567, Accuracy: 0.2421, Val_loss: 11.3100, Val_accuracy: 0.2583\n",
      "Epoch [40/ 100], Loss: 11.5567, Accuracy: 0.2421, Val_loss: 11.3100, Val_accuracy: 0.2583\n",
      "Epoch [45/ 100], Loss: 11.5567, Accuracy: 0.2421, Val_loss: 11.3100, Val_accuracy: 0.2583\n",
      "Epoch [50/ 100], Loss: 11.5567, Accuracy: 0.2421, Val_loss: 11.3100, Val_accuracy: 0.2583\n",
      "Epoch [55/ 100], Loss: 11.5567, Accuracy: 0.2421, Val_loss: 11.3100, Val_accuracy: 0.2583\n",
      "Epoch [60/ 100], Loss: 11.5567, Accuracy: 0.2421, Val_loss: 11.3100, Val_accuracy: 0.2583\n",
      "Epoch [65/ 100], Loss: 11.5567, Accuracy: 0.2421, Val_loss: 11.3100, Val_accuracy: 0.2583\n",
      "Epoch [70/ 100], Loss: 11.5567, Accuracy: 0.2421, Val_loss: 11.3100, Val_accuracy: 0.2583\n",
      "Epoch [75/ 100], Loss: 11.5567, Accuracy: 0.2421, Val_loss: 11.3100, Val_accuracy: 0.2583\n",
      "Epoch [80/ 100], Loss: 11.5567, Accuracy: 0.2421, Val_loss: 11.3100, Val_accuracy: 0.2583\n",
      "Epoch [85/ 100], Loss: 11.5567, Accuracy: 0.2421, Val_loss: 11.3100, Val_accuracy: 0.2583\n",
      "Epoch [90/ 100], Loss: 11.5567, Accuracy: 0.2421, Val_loss: 11.3100, Val_accuracy: 0.2583\n",
      "Epoch [95/ 100], Loss: 11.5567, Accuracy: 0.2421, Val_loss: 11.3100, Val_accuracy: 0.2583\n",
      "Epoch [100/ 100], Loss: 11.5567, Accuracy: 0.2421, Val_loss: 11.3100, Val_accuracy: 0.2583\n",
      "Elapsed time: 29.66s\n"
     ]
    }
   ],
   "source": [
    "t0 = time.time() # start time\n",
    "\n",
    "num_epochs =  100# epochs\n",
    "\n",
    "history = nn_model.fit(X_train, y_train, epochs=num_epochs, verbose=0, callbacks=[ProgBarLoggerNEpochs(num_epochs, every_n=5)], validation_split=0.2)\n",
    "\n",
    "\n",
    "t1 = time.time() # stop time\n",
    "\n",
    "print('Elapsed time: %.2fs' % (t1-t0))"
   ]
  },
  {
   "cell_type": "code",
   "execution_count": 14,
   "metadata": {},
   "outputs": [
    {
     "data": {
      "text/plain": [
       "dict_keys(['loss', 'accuracy', 'val_loss', 'val_accuracy'])"
      ]
     },
     "execution_count": 14,
     "metadata": {},
     "output_type": "execute_result"
    }
   ],
   "source": [
    "history.history.keys()"
   ]
  },
  {
   "cell_type": "markdown",
   "metadata": {},
   "source": [
    "### Visualize the Model's Performance Over Time\n",
    "\n",
    "The code below outputs both the training loss and accuracy and the validation loss and accuracy. Let us visualize the model's performance over time:"
   ]
  },
  {
   "cell_type": "code",
   "execution_count": 15,
   "metadata": {},
   "outputs": [
    {
     "data": {
      "image/png": "[encoded data removed]",
      "text/plain": [
       "<Figure size 640x480 with 1 Axes>"
      ]
     },
     "metadata": {},
     "output_type": "display_data"
    },
    {
     "data": {
      "image/png": "[encoded data removed]",
      "text/plain": [
       "<Figure size 640x480 with 1 Axes>"
      ]
     },
     "metadata": {},
     "output_type": "display_data"
    }
   ],
   "source": [
    "# Plot training and validation loss\n",
    "plt.plot(range(1, num_epochs + 1), history.history['loss'], label='Training Loss')\n",
    "plt.plot(range(1, num_epochs + 1), history.history['val_loss'], label='Validation Loss')\n",
    "\n",
    "plt.xlabel('Epoch')\n",
    "plt.ylabel('Loss')\n",
    "plt.legend()\n",
    "plt.show()\n",
    "\n",
    "\n",
    "# Plot training and validation accuracy\n",
    "plt.plot(range(1, num_epochs + 1), history.history['accuracy'], label='Training Accuracy')\n",
    "plt.plot(range(1, num_epochs + 1), history.history['val_accuracy'], label='Validation Accuracy')\n",
    "\n",
    "plt.xlabel('Epoch')\n",
    "plt.ylabel('Accuracy')\n",
    "plt.legend()\n",
    "plt.show()\n"
   ]
  },
  {
   "cell_type": "markdown",
   "metadata": {},
   "source": [
    "## Part 7. Evaluate the Model's Performance"
   ]
  },
  {
   "cell_type": "markdown",
   "metadata": {},
   "source": [
    "We just evaluated our model's performance on the training and validation data. Let's now evaluate its performance on our test data and compare the results.\n",
    "\n",
    "Keras makes the process of evaluating our model very easy. Recall that when we compiled the model, we specified the metric that we wanted to use to evaluate the model: accuracy. The Keras method `evaluate()` will return the loss and accuracy score of our model on our test data."
   ]
  },
  {
   "cell_type": "markdown",
   "metadata": {},
   "source": [
    "<b>Task:</b> In the code cell below, call `nn_model.evaluate()` with `X_test` and `y_test` as arguments. \n",
    "\n",
    "Note: The `evaluate()` method returns a list containing two values. The first value is the loss and the second value is the accuracy score.\n"
   ]
  },
  {
   "cell_type": "code",
   "execution_count": 16,
   "metadata": {},
   "outputs": [
    {
     "name": "stdout",
     "output_type": "stream",
     "text": [
      "219/219 [==============================] - 0s 423us/step - loss: 11.6274 - accuracy: 0.2375\n",
      "Loss: 11.627378463745117 Accuracy: 0.23751071095466614\n"
     ]
    }
   ],
   "source": [
    "loss, accuracy = nn_model.evaluate(X_test, y_test)\n",
    "\n",
    "print('Loss: {0} Accuracy: {1}'.format(loss, accuracy))"
   ]
  },
  {
   "cell_type": "markdown",
   "metadata": {},
   "source": [
    "Next, for every example in the test set, we will make a prediction using the `predict()` method, receive a probability between 0.0 and 1.0, and then apply a threshold (we will use a threshold of 0.6) to obtain the predicted class. We will save the class label predictions to list `class_label_predictions`."
   ]
  },
  {
   "cell_type": "code",
   "execution_count": 17,
   "metadata": {},
   "outputs": [],
   "source": [
    "# Make predictions on the test set\n",
    "probability_predictions = nn_model.predict(X_test)\n",
    "class_label_predictions=[]\n",
    "\n",
    "for i in range(0,len(y_test)):\n",
    "    if probability_predictions[i] >= 0.6:\n",
    "        class_label_predictions.append(1)\n",
    "    else:\n",
    "        class_label_predictions.append(0)\n"
   ]
  },
  {
   "cell_type": "markdown",
   "metadata": {},
   "source": [
    "<b>Task</b>: In the code cell below, create a confusion matrix out of `y_test` and the list `class_label_predictions`."
   ]
  },
  {
   "cell_type": "code",
   "execution_count": 18,
   "metadata": {},
   "outputs": [],
   "source": [
    "# YOUR CODE HERE\n",
    "confusion = confusion_matrix(y_test, class_label_predictions)"
   ]
  },
  {
   "cell_type": "markdown",
   "metadata": {},
   "source": [
    "## Part 8. Analysis\n",
    "\n",
    "Experiment with the neural network implementation above and compare your results every time you train the network. Pay attention to the time it takes to train the network, and the resulting loss and accuracy on both the training and test data. \n",
    "\n",
    "Below are some ideas for things you can try:\n",
    "\n",
    "* Adjust the learning rate.\n",
    "* Change the number of epochs by experimenting with different values for the variable `num_epochs`.\n",
    "* Add more hidden layers and/or experiment with different values for the `unit` parameter in the hidden layers to change the number of nodes in the hidden layers.\n",
    "\n",
    "\n",
    "Record your findings in the cell below."
   ]
  },
  {
   "cell_type": "markdown",
   "metadata": {},
   "source": [
    "With our original learning rate of 0.1, we get \"Loss: 3.7956902980804443 Accuracy: 0.7539252042770386\". Increasing this to 0.7 we get the same results of \"Loss: 3.7956902980804443 Accuracy: 0.7539252042770386\". Interestingly, decreasing this to 0.01 we still get the same results.\n",
    "\n",
    "Decreasing the number of epochs to 10, I also get the same results, albeit the training went a lot faster. (I think something might be broken on my side? ... ):)"
   ]
  }
 ],
 "metadata": {
  "kernelspec": {
   "display_name": "Python 3 (ipykernel)",
   "language": "python",
   "name": "python3"
  },
  "language_info": {
   "codemirror_mode": {
    "name": "ipython",
    "version": 3
   },
   "file_extension": ".py",
   "mimetype": "text/x-python",
   "name": "python",
   "nbconvert_exporter": "python",
   "pygments_lexer": "ipython3",
   "version": "3.9.19"
  },
  "toc": {
   "base_numbering": 1,
   "nav_menu": {},
   "number_sections": false,
   "sideBar": true,
   "skip_h1_title": false,
   "title_cell": "Table of Contents",
   "title_sidebar": "Contents",
   "toc_cell": false,
   "toc_position": {},
   "toc_section_display": true,
   "toc_window_display": false
  },
  "varInspector": {
   "cols": {
    "lenName": 16,
    "lenType": 16,
    "lenVar": 40
   },
   "kernels_config": {
    "python": {
     "delete_cmd_postfix": "",
     "delete_cmd_prefix": "del ",
     "library": "var_list.py",
     "varRefreshCmd": "print(var_dic_list())"
    },
    "r": {
     "delete_cmd_postfix": ") ",
     "delete_cmd_prefix": "rm(",
     "library": "var_list.r",
     "varRefreshCmd": "cat(var_dic_list()) "
    }
   },
   "types_to_exclude": [
    "module",
    "function",
    "builtin_function_or_method",
    "instance",
    "_Feature"
   ],
   "window_display": false
  }
 },
 "nbformat": 4,
 "nbformat_minor": 4
}
